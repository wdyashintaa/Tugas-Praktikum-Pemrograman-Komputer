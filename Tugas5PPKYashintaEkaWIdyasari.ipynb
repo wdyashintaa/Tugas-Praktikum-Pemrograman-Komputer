{
 "cells": [
  {
   "cell_type": "markdown",
   "id": "1edbfc4e-6b4e-4a5e-8333-1ce9282db819",
   "metadata": {},
   "source": [
    "Yashinta Eka Widyasari-2006011162-Praktikum Pemrograman Komputer"
   ]
  },
  {
   "cell_type": "markdown",
   "id": "32b7f29f-d577-4b4f-98c6-ce55cbac56e2",
   "metadata": {},
   "source": [
    "Array NumPy\n",
    "\n",
    "Array NumPy disebut juga ndarray atau dikenal sebagai array. Catat bahwa numpy.array tidak sama dengan array Standard Python array.array, yang hanya bisa digunakan untuk array satu dimensi dan dengan ﬁtur yang lebih sedikit. Atribut yang paling penting dari ndarray adalah:\n",
    "\n",
    "- ndarray.ndim banyaknya axis atau dimensi dari array. Di Python, banyaknya dimensi disebut sebagai rank.\n",
    "\n",
    "- ndarray.shape dimensi dari array. Ini adalah pasangan bilangan bulat yang menunjukkan ukuran array di setiap dimensi. Untuk matriks dengan n barisdan m kolom,bentuknya adalah (n, m). Panjang dari pasangan shape adalah rank, atau jumlah dimensi, ndim.\n",
    "\n",
    "- ndarray.size jumlah elemen dari array. Ini sama dengan perkalian elemen dari shape.\n",
    "\n",
    "- ndarray.dtype sebuah objek yang menggambarkan jenis elemen dalam array. Seseorang dapat membuat atau menentukan jenis dtype menggunakan jenis Python standar. Selain itu NumPy menyediakan jenisnya sendiri. numpy.int32,numpy.int16,dannumpy.float64 adalah beberapa contohnya.\n",
    "\n",
    "- ndarray.itemsize ukuran dalam byte dari setiap elemen array. Sebagai contoh, sebuah array dari elemen tipe float64 memiliki itemsize 8 (= 64/8), sedangkan satu dari tipe complex32 memiliki itemsize 4 (= 32/8). Ini sama dengan ndarray.dtype.itemsize.\n",
    "\n",
    "- ndarray.data buffer yang mengandung elemen sebenarnya dari array. Biasanya, kita tidak perlu menggunakan atribut ini karena kita akan mengakses elemen dalam array menggunakan fasilitas pengindeksan.\n"
   ]
  },
  {
   "cell_type": "markdown",
   "id": "743786ef-98b4-4630-9a55-73679c3fb4b4",
   "metadata": {},
   "source": [
    "Contoh"
   ]
  },
  {
   "cell_type": "code",
   "execution_count": 1,
   "id": "21cf966c-3fc0-4ea7-ad36-89390a31b9ea",
   "metadata": {},
   "outputs": [
    {
     "data": {
      "text/plain": [
       "array([[ 0,  1,  2,  3,  4],\n",
       "       [ 5,  6,  7,  8,  9],\n",
       "       [10, 11, 12, 13, 14]])"
      ]
     },
     "execution_count": 1,
     "metadata": {},
     "output_type": "execute_result"
    }
   ],
   "source": [
    "import numpy as np\n",
    "a=np.arange(15).reshape(3, 5)\n",
    "a"
   ]
  },
  {
   "cell_type": "code",
   "execution_count": 2,
   "id": "3580baf5-d767-43f0-8b4f-a68e37e20007",
   "metadata": {},
   "outputs": [
    {
     "data": {
      "text/plain": [
       "(3, 5)"
      ]
     },
     "execution_count": 2,
     "metadata": {},
     "output_type": "execute_result"
    }
   ],
   "source": [
    "a.shape"
   ]
  },
  {
   "cell_type": "code",
   "execution_count": 3,
   "id": "1afaed8a-4770-42b7-91d0-b0e19f55f29c",
   "metadata": {},
   "outputs": [
    {
     "data": {
      "text/plain": [
       "2"
      ]
     },
     "execution_count": 3,
     "metadata": {},
     "output_type": "execute_result"
    }
   ],
   "source": [
    "a.ndim"
   ]
  },
  {
   "cell_type": "code",
   "execution_count": 4,
   "id": "674fec1e-5122-41a5-aa36-12f69d1fdd54",
   "metadata": {},
   "outputs": [
    {
     "data": {
      "text/plain": [
       "'int32'"
      ]
     },
     "execution_count": 4,
     "metadata": {},
     "output_type": "execute_result"
    }
   ],
   "source": [
    "a.dtype.name"
   ]
  },
  {
   "cell_type": "code",
   "execution_count": 5,
   "id": "95be8438-2873-46e3-95f0-5ff27c873be6",
   "metadata": {},
   "outputs": [
    {
     "data": {
      "text/plain": [
       "4"
      ]
     },
     "execution_count": 5,
     "metadata": {},
     "output_type": "execute_result"
    }
   ],
   "source": [
    "a.itemsize"
   ]
  },
  {
   "cell_type": "code",
   "execution_count": 6,
   "id": "a1d167cd-69d6-436f-8e28-5439bf566e37",
   "metadata": {},
   "outputs": [
    {
     "data": {
      "text/plain": [
       "15"
      ]
     },
     "execution_count": 6,
     "metadata": {},
     "output_type": "execute_result"
    }
   ],
   "source": [
    "a.size"
   ]
  },
  {
   "cell_type": "code",
   "execution_count": 7,
   "id": "dad2c691-8dd8-432e-9227-bb0a71700294",
   "metadata": {},
   "outputs": [
    {
     "data": {
      "text/plain": [
       "numpy.ndarray"
      ]
     },
     "execution_count": 7,
     "metadata": {},
     "output_type": "execute_result"
    }
   ],
   "source": [
    "type(a)"
   ]
  },
  {
   "cell_type": "code",
   "execution_count": 8,
   "id": "f1328618-44c5-4d5b-a9b1-be7cd2198b8d",
   "metadata": {},
   "outputs": [
    {
     "data": {
      "text/plain": [
       "array([6, 7, 8])"
      ]
     },
     "execution_count": 8,
     "metadata": {},
     "output_type": "execute_result"
    }
   ],
   "source": [
    "b=np.array([6,7,8])\n",
    "b"
   ]
  },
  {
   "cell_type": "code",
   "execution_count": 9,
   "id": "af7febeb-d5a2-4bc3-b475-15524d94c62d",
   "metadata": {},
   "outputs": [
    {
     "data": {
      "text/plain": [
       "numpy.ndarray"
      ]
     },
     "execution_count": 9,
     "metadata": {},
     "output_type": "execute_result"
    }
   ],
   "source": [
    "type(b)"
   ]
  },
  {
   "cell_type": "markdown",
   "id": "59ec58f3-dbcc-4315-9e81-134f186a1b8b",
   "metadata": {},
   "source": [
    "Membuat Array\n",
    "\n",
    "Ada beberapa cara untuk membuat array. Misalnya, Anda dapat membuat array dari list Python biasa atau pasangan menggunakan fungsi array. Tipe array yang dihasilkan disimpulkan dari tipe elemen dalam array"
   ]
  },
  {
   "cell_type": "code",
   "execution_count": 10,
   "id": "ee599dd0-913e-4dea-aae4-f476d274a4cb",
   "metadata": {},
   "outputs": [
    {
     "data": {
      "text/plain": [
       "array([2, 3, 4])"
      ]
     },
     "execution_count": 10,
     "metadata": {},
     "output_type": "execute_result"
    }
   ],
   "source": [
    "import numpy as np\n",
    "a=np.array([2,3,4])\n",
    "a"
   ]
  },
  {
   "cell_type": "code",
   "execution_count": 11,
   "id": "d9c143fe-7f0f-4838-b8dd-d03e3d073e67",
   "metadata": {},
   "outputs": [
    {
     "data": {
      "text/plain": [
       "dtype('int32')"
      ]
     },
     "execution_count": 11,
     "metadata": {},
     "output_type": "execute_result"
    }
   ],
   "source": [
    "a.dtype"
   ]
  },
  {
   "cell_type": "code",
   "execution_count": 50,
   "id": "00208314-3b7b-4019-bcec-4b2d007a498b",
   "metadata": {},
   "outputs": [
    {
     "data": {
      "text/plain": [
       "dtype('float64')"
      ]
     },
     "execution_count": 50,
     "metadata": {},
     "output_type": "execute_result"
    }
   ],
   "source": [
    "b = np.array([1.2, 3.5, 5.1])\n",
    "b.dtype "
   ]
  },
  {
   "cell_type": "markdown",
   "id": "8e699b7a-d5ab-4823-8d49-cb36848e66a9",
   "metadata": {},
   "source": [
    "Kesalahan yang sering terjadi dalam pembuatan array diantaranya adalah:\n"
   ]
  },
  {
   "cell_type": "code",
   "execution_count": null,
   "id": "1cccba48-aae4-42df-85f2-0d7bc0bec700",
   "metadata": {},
   "outputs": [],
   "source": [
    "a = np.array(1,2,3,4)   # WRONG\n",
    "a = np.array([1,2,3,4]) # RIGHT"
   ]
  },
  {
   "cell_type": "markdown",
   "id": "1ac4910e-c7d7-4497-9b45-6b56896b8d73",
   "metadata": {},
   "source": [
    "array mengubah barisan dari sebuah barisan menjadi array dua dimensi, barisan dari barisan sebuah barisan menjadi array tiga dimensi, dan seterusnya.\n"
   ]
  },
  {
   "cell_type": "code",
   "execution_count": 16,
   "id": "3e7da576-17b8-4793-bd97-4446fd932b94",
   "metadata": {},
   "outputs": [
    {
     "data": {
      "text/plain": [
       "array([[1.5, 2. , 3. ],\n",
       "       [4. , 5. , 6. ]])"
      ]
     },
     "execution_count": 16,
     "metadata": {},
     "output_type": "execute_result"
    }
   ],
   "source": [
    "b=np.array([(1.5,2,3), (4,5,6)])\n",
    "b"
   ]
  },
  {
   "cell_type": "markdown",
   "id": "0ecb2a51-353f-4951-a395-99c507951071",
   "metadata": {},
   "source": [
    "Jenis array juga dapat secara eksplisit ditentukan pada saat pembuatan:\n"
   ]
  },
  {
   "cell_type": "code",
   "execution_count": 17,
   "id": "53e410b3-14c3-478d-a7de-dd5392c6bcc6",
   "metadata": {},
   "outputs": [
    {
     "data": {
      "text/plain": [
       "array([[1.+0.j, 2.+0.j],\n",
       "       [3.+0.j, 4.+0.j]])"
      ]
     },
     "execution_count": 17,
     "metadata": {},
     "output_type": "execute_result"
    }
   ],
   "source": [
    "c=np.array( [ [1,2], [3,4] ], dtype=complex )\n",
    "c"
   ]
  },
  {
   "cell_type": "markdown",
   "id": "d14742ba-509b-41ed-9cf1-ba4b639173e6",
   "metadata": {},
   "source": [
    "Fungsi zeros \n",
    "\n",
    "Fungsi zeros menciptakan sebuah array yang berisi angka nol, fungsi ones yang menciptakan array yang berisi angka satu, dan fungsi empty menciptakan array yang isinya acak dan bergantung pada keadaan memori. Secara default, dtype dari array yang dibuat adalah float64.\n"
   ]
  },
  {
   "cell_type": "code",
   "execution_count": 18,
   "id": "971afba3-0e8f-4a79-8cc9-c9ca87ed03d0",
   "metadata": {},
   "outputs": [
    {
     "data": {
      "text/plain": [
       "array([[0., 0., 0., 0.],\n",
       "       [0., 0., 0., 0.],\n",
       "       [0., 0., 0., 0.]])"
      ]
     },
     "execution_count": 18,
     "metadata": {},
     "output_type": "execute_result"
    }
   ],
   "source": [
    "np.zeros( (3,4) )"
   ]
  },
  {
   "cell_type": "code",
   "execution_count": 19,
   "id": "669b62bb-3783-4346-b447-f900ec92810d",
   "metadata": {},
   "outputs": [
    {
     "data": {
      "text/plain": [
       "array([[[1, 1, 1, 1],\n",
       "        [1, 1, 1, 1],\n",
       "        [1, 1, 1, 1]],\n",
       "\n",
       "       [[1, 1, 1, 1],\n",
       "        [1, 1, 1, 1],\n",
       "        [1, 1, 1, 1]]], dtype=int16)"
      ]
     },
     "execution_count": 19,
     "metadata": {},
     "output_type": "execute_result"
    }
   ],
   "source": [
    "np.ones( (2,3,4), dtype=np.int16 )  #dtype can also be specified"
   ]
  },
  {
   "cell_type": "code",
   "execution_count": 29,
   "id": "00389e0d-7902-4999-aeed-2d2b046842bd",
   "metadata": {},
   "outputs": [
    {
     "data": {
      "text/plain": [
       "array([[0.3, 0.6, 0.9],\n",
       "       [1.2, 1.5, 1.8]])"
      ]
     },
     "execution_count": 29,
     "metadata": {},
     "output_type": "execute_result"
    }
   ],
   "source": [
    "np.empty( (2,3) )  # uninitialized, output may vary"
   ]
  },
  {
   "cell_type": "markdown",
   "id": "0d2829ed-21f7-454d-a958-0910a1bf9bf7",
   "metadata": {},
   "source": [
    "Untuk membuat barisan angka, NumPy menyediakan fungsi yang mirip dengan range yang outputnya berupa array dan bukan berupa list.\n"
   ]
  },
  {
   "cell_type": "code",
   "execution_count": 22,
   "id": "16f62a59-1532-4df1-91de-7adab0065a6b",
   "metadata": {},
   "outputs": [
    {
     "data": {
      "text/plain": [
       "array([10, 15, 20, 25])"
      ]
     },
     "execution_count": 22,
     "metadata": {},
     "output_type": "execute_result"
    }
   ],
   "source": [
    "np.arange(10,30,5 )"
   ]
  },
  {
   "cell_type": "code",
   "execution_count": 30,
   "id": "3bea7ccd-c6bf-44de-a83d-d3543c25cab1",
   "metadata": {},
   "outputs": [
    {
     "data": {
      "text/plain": [
       "array([0. , 0.3, 0.6, 0.9, 1.2, 1.5, 1.8])"
      ]
     },
     "execution_count": 30,
     "metadata": {},
     "output_type": "execute_result"
    }
   ],
   "source": [
    "np.arange(0,2,0.3 )  # it accepts float arguments"
   ]
  },
  {
   "cell_type": "markdown",
   "id": "2b850bdc-c75a-4140-9796-ac14cdb72a7f",
   "metadata": {},
   "source": [
    "Jika arange digunakan dengan argumen ﬂoating point, biasanya sulit memprediksi jumlah elemen yang diperoleh, karena presisi ﬂoating point yang terbatas. Untuk itu, lebih baik menggunakan fungsi linspace yang dapat menerima masukan berapa jumlah elemen yang kita inginkan:\n"
   ]
  },
  {
   "cell_type": "code",
   "execution_count": 31,
   "id": "7a3cbb53-392c-4b4d-9c4d-8f3ac061184a",
   "metadata": {},
   "outputs": [
    {
     "data": {
      "text/plain": [
       "array([0.  , 0.25, 0.5 , 0.75, 1.  , 1.25, 1.5 , 1.75, 2.  ])"
      ]
     },
     "execution_count": 31,
     "metadata": {},
     "output_type": "execute_result"
    }
   ],
   "source": [
    "from numpy import pi\n",
    "np.linspace(0,2,9)  #9 numbers from 0 to 2"
   ]
  },
  {
   "cell_type": "code",
   "execution_count": 34,
   "id": "58e34ed7-ab5d-4220-a1b8-fcd3594c4b3b",
   "metadata": {},
   "outputs": [],
   "source": [
    "x=np.linspace(0,2*pi,100 )  #useful to evaluate function at lots of points\n",
    "f=np.sin(x)"
   ]
  },
  {
   "cell_type": "markdown",
   "id": "0547dfa6-09f1-4a88-a3b1-7a45339e695a",
   "metadata": {},
   "source": [
    "Menampilkan Array \n",
    "\n",
    "Saat kita menampilkan array, NumPy menampilkannya dengan cara yang mirip dengan daftar bersarang, namun dengan tata letak berikut:\n",
    "\n",
    "- Axis terakhir dicetak dari kiri ke kanan, \n",
    "- Yang kedua sampai yang terakhir dicetak dari atas ke bawah, \n",
    "- Sisanya juga dicetak dari atas ke bawah,dengan masing -masing potongan dipisahkan oleh sebuah baris kosong.\n",
    "\n",
    "array satu dimensi dicetak sebagai baris, array dua dimensi sebagai matriks dan tridimensionals sebagai daftar matriks."
   ]
  },
  {
   "cell_type": "code",
   "execution_count": 35,
   "id": "73cfbc01-95dc-448c-90e1-be1f5a1188c4",
   "metadata": {},
   "outputs": [
    {
     "name": "stdout",
     "output_type": "stream",
     "text": [
      "[0 1 2 3 4 5]\n"
     ]
    }
   ],
   "source": [
    "a=np.arange(6)  #1d array\n",
    "print(a)"
   ]
  },
  {
   "cell_type": "code",
   "execution_count": 41,
   "id": "c0c06679-e27f-4af5-8a1f-ed49266db7ef",
   "metadata": {},
   "outputs": [
    {
     "name": "stdout",
     "output_type": "stream",
     "text": [
      "[[ 0  1  2]\n",
      " [ 3  4  5]\n",
      " [ 6  7  8]\n",
      " [ 9 10 11]]\n"
     ]
    }
   ],
   "source": [
    "b = np.arange(12).reshape(4,3) # 2d array\n",
    "print(b)"
   ]
  },
  {
   "cell_type": "code",
   "execution_count": 43,
   "id": "887e3083-bf26-4e34-b07c-552584ec8da6",
   "metadata": {},
   "outputs": [
    {
     "name": "stdout",
     "output_type": "stream",
     "text": [
      "[[[ 0  1  2  3]\n",
      "  [ 4  5  6  7]\n",
      "  [ 8  9 10 11]]\n",
      "\n",
      " [[12 13 14 15]\n",
      "  [16 17 18 19]\n",
      "  [20 21 22 23]]]\n"
     ]
    }
   ],
   "source": [
    "c = np.arange(24).reshape(2,3,4) # 3d array \n",
    "print(c) "
   ]
  },
  {
   "cell_type": "markdown",
   "id": "7e9901c0-92bb-4a26-b2b8-7ac95aeb19d4",
   "metadata": {},
   "source": [
    "Jika array terlalu besar untuk ditampilkan, NumPy secara otomatis memotong bagian tengah array dan hanya mencetak ujung-ujungnya:\n"
   ]
  },
  {
   "cell_type": "code",
   "execution_count": 44,
   "id": "ce52523c-a5b4-4bf6-a595-9d48a7346608",
   "metadata": {},
   "outputs": [
    {
     "name": "stdout",
     "output_type": "stream",
     "text": [
      "[   0    1    2 ... 9997 9998 9999]\n"
     ]
    }
   ],
   "source": [
    "print(np.arange(10000)) "
   ]
  },
  {
   "cell_type": "code",
   "execution_count": 45,
   "id": "28ca915e-511a-43e4-9274-047f010621d2",
   "metadata": {},
   "outputs": [
    {
     "name": "stdout",
     "output_type": "stream",
     "text": [
      "[[   0    1    2 ...   97   98   99]\n",
      " [ 100  101  102 ...  197  198  199]\n",
      " [ 200  201  202 ...  297  298  299]\n",
      " ...\n",
      " [9700 9701 9702 ... 9797 9798 9799]\n",
      " [9800 9801 9802 ... 9897 9898 9899]\n",
      " [9900 9901 9902 ... 9997 9998 9999]]\n"
     ]
    }
   ],
   "source": [
    "print(np.arange(10000).reshape(100,100)) "
   ]
  },
  {
   "cell_type": "markdown",
   "id": "1038bd5d-786f-464f-a31b-a2913e7c6073",
   "metadata": {},
   "source": [
    "Untuk memaksa NumPy mencetak seluruh bagian array, kita dapat mengubah opsi print menggunakan set_printoptions.\n"
   ]
  },
  {
   "cell_type": "code",
   "execution_count": null,
   "id": "ae1d6ebe-9545-4c64-8adf-cda324ba50fd",
   "metadata": {},
   "outputs": [],
   "source": [
    "np.set_printoptions(threshold =’nan’)"
   ]
  }
 ],
 "metadata": {
  "kernelspec": {
   "display_name": "Python 3 (ipykernel)",
   "language": "python",
   "name": "python3"
  },
  "language_info": {
   "codemirror_mode": {
    "name": "ipython",
    "version": 3
   },
   "file_extension": ".py",
   "mimetype": "text/x-python",
   "name": "python",
   "nbconvert_exporter": "python",
   "pygments_lexer": "ipython3",
   "version": "3.10.2"
  }
 },
 "nbformat": 4,
 "nbformat_minor": 5
}
