{
 "cells": [
  {
   "cell_type": "markdown",
   "id": "45d094f6-c794-46b4-8aea-0efdfabfe213",
   "metadata": {},
   "source": [
    "Yashinta Eka Widyasari-200601110062-Praktikum Pemrograman Komputer (F)"
   ]
  },
  {
   "cell_type": "markdown",
   "id": "31cb68e5-f26b-4d79-adc7-29797f2dc505",
   "metadata": {},
   "source": [
    "Buatlah program yang meminta masukan user sebuah bilangan bulat N dimana (N > 0). Program kemudian menampilkan penjumlahan N bilangan genap positif pertama (bilangan genap ≥ 0)"
   ]
  },
  {
   "cell_type": "code",
   "execution_count": 12,
   "id": "90f203e6-3e3a-48da-b2ba-6a3af5357a00",
   "metadata": {},
   "outputs": [
    {
     "name": "stdin",
     "output_type": "stream",
     "text": [
      "Angka\n",
      "> 9\n"
     ]
    }
   ],
   "source": [
    "user_input = int(input(\"Angka\\n>\"))"
   ]
  },
  {
   "cell_type": "code",
   "execution_count": 13,
   "id": "0058715d-acb0-4c32-9f2f-6e14fda0d87c",
   "metadata": {},
   "outputs": [],
   "source": [
    "angka_list = [0]\n",
    "angka = 0\n",
    "for i in range(user_input):\n",
    "    if i % 2 ==0:\n",
    "        angka += 2\n",
    "        angka_list.append(angka)\n",
    "    else:\n",
    "        continue"
   ]
  },
  {
   "cell_type": "code",
   "execution_count": 14,
   "id": "245395f1-de43-4893-b918-4cb95282c8ef",
   "metadata": {},
   "outputs": [
    {
     "name": "stdout",
     "output_type": "stream",
     "text": [
      "[0, 2, 4, 6, 8]\n"
     ]
    }
   ],
   "source": [
    "print(angka_list[0:len(angka_list)-1])"
   ]
  },
  {
   "cell_type": "markdown",
   "id": "a4483483-e154-4b7b-b850-56a06052a3f5",
   "metadata": {},
   "source": [
    "Buatlah sebuah program yang meminta masukan user sebuah bilangan bulat N dimana (N > 0). Kemudian, program menampilkan penjumlahan N bilangan kuadrat pertama. Bilangan kuadrat adalah = 1,4,9,16,25,36,....,N2."
   ]
  },
  {
   "cell_type": "code",
   "execution_count": 2,
   "id": "e25709fb-cefd-4330-bb2f-2af1fb61dc67",
   "metadata": {},
   "outputs": [
    {
     "name": "stdin",
     "output_type": "stream",
     "text": [
      "Masukkan banyak N :  4\n"
     ]
    },
    {
     "name": "stdout",
     "output_type": "stream",
     "text": [
      "Daftar Bilangan Kuadrat\n",
      "===========================================================================\n",
      "1 4 9 16 \n",
      "===========================================================================\n",
      "Hasil Perhitungan\n",
      "===========================================================================\n",
      "Bilangan di atas ada 4 bilangan\n",
      "Total dari keseluruhan bilangan kuadrat adalah 30\n"
     ]
    }
   ],
   "source": [
    "n = int(input(\"Masukkan banyak N : \"))\n",
    "count = 0\n",
    "summ = 0\n",
    "print(\"Daftar Bilangan Kuadrat\")\n",
    "print(\"=\" * 75)\n",
    "for i in range(n+1) :\n",
    "    if i != 0:\n",
    "        print (i*i, end= ' ')\n",
    "        count = count + 1\n",
    "        summ = summ + i*i\n",
    "                \n",
    "print()\n",
    "print(\"=\" *75)\n",
    "print(\"Hasil Perhitungan\")\n",
    "print(\"=\" *75)\n",
    "print('Bilangan di atas ada %d bilangan' %count)\n",
    "print ('Total dari keseluruhan bilangan kuadrat adalah %d' %summ)"
   ]
  },
  {
   "cell_type": "markdown",
   "id": "faf10056-e8b6-46fb-bae3-2d07bf16c165",
   "metadata": {},
   "source": [
    "Buatlah sebuah program yang meminta masukan user sebuah bilangan bulat N dimana (N > 0). Program kemudian memeriksa setiap digit yang ada di angka tersebut, dan menampilkan berapa jumlah digit yang ganjil dari bilangan N tersebut. "
   ]
  },
  {
   "cell_type": "code",
   "execution_count": 1,
   "id": "58253abb-58a3-4c26-8e5b-ab761f215b6f",
   "metadata": {
    "tags": []
   },
   "outputs": [
    {
     "name": "stdin",
     "output_type": "stream",
     "text": [
      "Masukkan semua bilangan N:   3\n",
      "Masukkan bilangan :  6\n",
      "Masukkan bilangan :  9\n",
      "Masukkan bilangan :  2\n"
     ]
    },
    {
     "name": "stdout",
     "output_type": "stream",
     "text": [
      "Daftar bilangan ganjil\n",
      "===========================================================================\n",
      "1 "
     ]
    }
   ],
   "source": [
    "n=int(input(\"Masukkan semua bilangan N:  \"))\n",
    "num_list = []\n",
    "for x in range (n) :\n",
    "    a = int(input(\"Masukkan bilangan : \" ))\n",
    "    num_list.append(a)\n",
    "count = 0\n",
    "print(\"Daftar bilangan ganjil\")\n",
    "print(\"=\" * 75)\n",
    "for i in range(a+1) :\n",
    "    if i % 2 == 1 :\n",
    "        print (i, end= ' ')\n",
    "        count = count + 1"
   ]
  },
  {
   "cell_type": "markdown",
   "id": "fdf00526-a507-4037-ab19-52155b307b58",
   "metadata": {},
   "source": [
    "Cari bagaimana cara menampilkan Judul (Title) dari grafik"
   ]
  },
  {
   "cell_type": "code",
   "execution_count": 1,
   "id": "56cef85b-b0d6-4f0a-b5b6-856a087b475e",
   "metadata": {},
   "outputs": [
    {
     "data": {
      "image/png": "[encoded data removed]",
      "text/plain": [
       "<Figure size 432x288 with 1 Axes>"
      ]
     },
     "metadata": {
      "needs_background": "light"
     },
     "output_type": "display_data"
    }
   ],
   "source": [
    "import matplotlib.pyplot as plt\n",
    "\n",
    "x=[5,10,15,20]\n",
    "y=[2,4,7,10]\n",
    "\n",
    "plt.plot (x,y)\n",
    "plt.title (\"Diagram Kartesius\")\n",
    "plt.grid(True)"
   ]
  },
  {
   "cell_type": "markdown",
   "id": "3f9c3491-523a-4913-a687-c8c0f66cd0dc",
   "metadata": {},
   "source": [
    "Cari bagaimana cara memberikan label beda sumbu x dan sumbu y"
   ]
  },
  {
   "cell_type": "code",
   "execution_count": 2,
   "id": "042bba8d-6924-47ac-88a1-dc0d898a012b",
   "metadata": {},
   "outputs": [
    {
     "data": {
      "image/png": "[encoded data removed]",
      "text/plain": [
       "<Figure size 432x288 with 1 Axes>"
      ]
     },
     "metadata": {
      "needs_background": "light"
     },
     "output_type": "display_data"
    }
   ],
   "source": [
    "import matplotlib.pyplot as plt\n",
    "\n",
    "y = [5, 10, 15, 20, 25]\n",
    "x = [2, 4, 6, 8, 10]\n",
    "plt.plot(x, y)\n",
    "\n",
    "plt.xlabel('Nilai X')\n",
    "plt.ylabel('Nilai Y')\n",
    "\n",
    "plt.title('Diagram Kartesius')\n",
    "plt.grid(True)\n",
    "\n",
    "plt.show()"
   ]
  },
  {
   "cell_type": "markdown",
   "id": "93a5a20b-075e-407f-96c3-2a313e617b22",
   "metadata": {},
   "source": [
    "Cari bagaimana cara menambahkan teks dalam grafik"
   ]
  },
  {
   "cell_type": "code",
   "execution_count": 3,
   "id": "61cabfae-a0b7-41cc-84ca-14a7f41fcaed",
   "metadata": {},
   "outputs": [
    {
     "data": {
      "image/png": "[encoded data removed]",
      "text/plain": [
       "<Figure size 432x288 with 1 Axes>"
      ]
     },
     "metadata": {
      "needs_background": "light"
     },
     "output_type": "display_data"
    }
   ],
   "source": [
    "import matplotlib.pyplot as plt\n",
    "\n",
    "y = [5, 10, 15, 20, 25]\n",
    "x = [2, 4, 6, 8, 10]\n",
    "plt.plot(x, y)\n",
    "\n",
    "plt.xlabel('Nilai X')\n",
    "plt.ylabel('Nilai Y')\n",
    "plt.scatter(x, y, color=\"darkblue\", label=\"item\")\n",
    "\n",
    "plt.title('Diagram Kartesius')\n",
    "plt.grid(True)\n",
    "plt.legend()\n",
    "\n",
    "plt.show()"
   ]
  },
  {
   "cell_type": "code",
   "execution_count": null,
   "id": "bd4e996f-704f-4975-9e53-65e236ecb407",
   "metadata": {},
   "outputs": [],
   "source": []
  }
 ],
 "metadata": {
  "kernelspec": {
   "display_name": "Python 3 (ipykernel)",
   "language": "python",
   "name": "python3"
  },
  "language_info": {
   "codemirror_mode": {
    "name": "ipython",
    "version": 3
   },
   "file_extension": ".py",
   "mimetype": "text/x-python",
   "name": "python",
   "nbconvert_exporter": "python",
   "pygments_lexer": "ipython3",
   "version": "3.10.2"
  }
 },
 "nbformat": 4,
 "nbformat_minor": 5
}
