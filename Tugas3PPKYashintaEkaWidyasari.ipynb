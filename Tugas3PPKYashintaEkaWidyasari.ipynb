{
 "cells": [
  {
   "cell_type": "markdown",
   "id": "51dda66e-dd03-4069-ac72-1ff431e2760f",
   "metadata": {},
   "source": [
    "Yashinta Eka Widyasari-200601110062-Praktikum Pemrograman Komputer(F)"
   ]
  },
  {
   "cell_type": "markdown",
   "id": "cf68cfb8-1d99-4e73-bd23-fc770782432d",
   "metadata": {},
   "source": [
    "1. Buatlah program untuk menginputkan dua buah bilangan bulat, kemudian mencetak salah satu bilangan yang nilainya terbesar! "
   ]
  },
  {
   "cell_type": "code",
   "execution_count": 4,
   "id": "d16c0ac1-1e84-4c96-af8f-511a795c3f18",
   "metadata": {},
   "outputs": [],
   "source": [
    "def main():\n",
    "    #membuat judul program\n",
    "    print(\"menentukan  Nilai terbesar dari dua buah bilangan bulat\")"
   ]
  },
  {
   "cell_type": "code",
   "execution_count": 5,
   "id": "86b2ab05-af60-470d-a016-00614c9a3cd7",
   "metadata": {},
   "outputs": [
    {
     "name": "stdin",
     "output_type": "stream",
     "text": [
      "masukkan bilangan pertama:  2\n",
      "masukkan bilangan kedua:  8\n"
     ]
    }
   ],
   "source": [
    "#menentukan input user\n",
    "a = int(input(\"masukkan bilangan pertama: \"))\n",
    "b = int(input(\"masukkan bilangan kedua: \"))"
   ]
  },
  {
   "cell_type": "code",
   "execution_count": 7,
   "id": "409718e3-7dda-420a-88a6-f5e94e750a98",
   "metadata": {},
   "outputs": [
    {
     "name": "stdout",
     "output_type": "stream",
     "text": [
      "Nilai Terbesar adalah 8\n"
     ]
    }
   ],
   "source": [
    "#menentukan Nilai bilangan dengan if else\n",
    "if a > b:\n",
    "    maks = a\n",
    "else:\n",
    "    maks = b\n",
    "#mencetak nilai maksimum \n",
    "print('Nilai Terbesar adalah %d' % maks)"
   ]
  },
  {
   "cell_type": "markdown",
   "id": "e5094f92-039c-489a-9576-44ea4ca5a123",
   "metadata": {},
   "source": [
    "2. Pada akhir semester seorang dosen menghitung nilai akhir dari mahasiswa yang terdiri dari nilai uas, uts, kuis, dan tugas. Nilai akhir didapatkan dari 40% nilai uas, 30% nilai uts, 10% nilai kuis, dan 20% niiai tugas. Jika nilai akhir dari mahasisw di bawah 65 maka mahasiswa tersebut akan mendapatkan remidi. Buatlah program untukmembantu mengetahui mahasiswa yang mendapatkan remidi berdasarkan nilai akhir yang didapatkannya!      "
   ]
  },
  {
   "cell_type": "code",
   "execution_count": 12,
   "id": "30602b03-e395-4f39-9e61-2a3d45a30ff1",
   "metadata": {},
   "outputs": [],
   "source": [
    "def main():\n",
    "    #membuat judul program\n",
    "    print(\"menentukan  Nilai dari mahasiswa\")"
   ]
  },
  {
   "cell_type": "code",
   "execution_count": 13,
   "id": "b42a61a0-f3ee-4d6a-8973-50fc4d889d90",
   "metadata": {},
   "outputs": [
    {
     "name": "stdin",
     "output_type": "stream",
     "text": [
      "masukkan nilai UAS:  95\n",
      "masukkan nilai UTS:  80\n",
      "masukkan nilai Kuis:  90\n",
      "masukkan nilai Tugas:  80\n"
     ]
    }
   ],
   "source": [
    "#menentukan input user\n",
    "a = int(input(\"masukkan nilai UAS: \"))\n",
    "b = int(input(\"masukkan nilai UTS: \"))\n",
    "c = int(input(\"masukkan nilai Kuis: \"))\n",
    "d = int(input(\"masukkan nilai Tugas: \"))"
   ]
  },
  {
   "cell_type": "code",
   "execution_count": 15,
   "id": "35f72ff0-1d33-4202-a441-ed61dfcc1adb",
   "metadata": {},
   "outputs": [
    {
     "name": "stdout",
     "output_type": "stream",
     "text": [
      "mahasiswa tidak remidi\n"
     ]
    }
   ],
   "source": [
    "#menentukan nilai akhir dari mahasiswa\n",
    "if a*0.4 + b*0.3 + c*0.1 + d*0.2 > 65 :\n",
    "    print(\"mahasiswa tidak remidi\")\n",
    "else:\n",
    "    print(\"mahasiswa remidi\")"
   ]
  },
  {
   "cell_type": "markdown",
   "id": "07fc5b03-69a0-47ad-b50b-9cb898515268",
   "metadata": {},
   "source": [
    "3. Buatlah program kalkulator sederhana menggunakan Phython. User akan memasukkan dua buah bilangan riil dan satu buah operator aritmatika (+,-,*,atau/), kemudian program akan mengoperasikan dua bilangan tersebut dengan operator yang sesuai."
   ]
  },
  {
   "cell_type": "code",
   "execution_count": 18,
   "id": "3947467d-e8a1-448f-8ee7-c5b2ff396bcd",
   "metadata": {},
   "outputs": [
    {
     "name": "stdout",
     "output_type": "stream",
     "text": [
      "=========================\n",
      "Operasi Bilangan\n",
      "  1. Jumlah \t [+]\n",
      "  2. Kurang \t [-]\n",
      "  3. Kali \t [*]\n",
      "  4. Bagi \t [/]\n",
      "=========================\n"
     ]
    },
    {
     "name": "stdin",
     "output_type": "stream",
     "text": [
      "Pilih operasi (1/2/3/4):  3\n",
      "Masukkan bilangan pertama:  16\n",
      "Masukkan bilangan kedua:  5\n"
     ]
    }
   ],
   "source": [
    "print('=' * 25)\n",
    "print('Operasi Bilangan')\n",
    "print('  1. Jumlah \\t [+]')\n",
    "print('  2. Kurang \\t [-]')\n",
    "print('  3. Kali \\t [*]')\n",
    "print('  4. Bagi \\t [/]')\n",
    "print('=' * 25)\n",
    "\n",
    "operasi = input('Pilih operasi (1/2/3/4): ')\n",
    "bilangan_1 = eval(input('Masukkan bilangan pertama: '))\n",
    "bilangan_2 = eval(input('Masukkan bilangan kedua: '))"
   ]
  },
  {
   "cell_type": "code",
   "execution_count": 19,
   "id": "54c4b9fc-0856-4e63-9916-0ca95d386f91",
   "metadata": {},
   "outputs": [
    {
     "name": "stdout",
     "output_type": "stream",
     "text": [
      "=========================\n",
      "User memilih perkalian\n"
     ]
    }
   ],
   "source": [
    "print('=' * 25)\n",
    "\n",
    "if operasi == '1':\n",
    "  print('User memilih penjumlahan')\n",
    "elif operasi == '2':\n",
    "  print('User memilih pengurangan')\n",
    "elif operasi == '3':\n",
    "  print('User memilih perkalian')\n",
    "elif operasi == '4':\n",
    "  print('User memilih pembagian')\n",
    "else:\n",
    "  print('Tidak valid')"
   ]
  },
  {
   "cell_type": "code",
   "execution_count": 20,
   "id": "72aff709-f366-49a1-a9bb-2dfafbecec47",
   "metadata": {},
   "outputs": [
    {
     "name": "stdout",
     "output_type": "stream",
     "text": [
      "Hasil operasi dari 16 * 5 = 80\n"
     ]
    }
   ],
   "source": [
    "if operasi == '1':\n",
    "  hasil = bilangan_1 + bilangan_2\n",
    "  print(f'Hasil operasi dari {bilangan_1} + {bilangan_2} = {hasil}')\n",
    "elif operasi == '2':\n",
    "  hasil = bilangan_1 - bilangan_2\n",
    "  print(f'Hasil operasi dari {bilangan_1} - {bilangan_2} = {hasil}')\n",
    "elif operasi == '3':\n",
    "  hasil = bilangan_1 * bilangan_2\n",
    "  print(f'Hasil operasi dari {bilangan_1} * {bilangan_2} = {hasil}')\n",
    "elif operasi == '4':\n",
    "  hasil = bilangan_1 / bilangan_2\n",
    "  print(f'Hasil operasi dari {bilangan_1} / {bilangan_2} = {hasil}')\n",
    "else:\n",
    "  print('Tidak valid')"
   ]
  }
 ],
 "metadata": {
  "kernelspec": {
   "display_name": "Python 3 (ipykernel)",
   "language": "python",
   "name": "python3"
  },
  "language_info": {
   "codemirror_mode": {
    "name": "ipython",
    "version": 3
   },
   "file_extension": ".py",
   "mimetype": "text/x-python",
   "name": "python",
   "nbconvert_exporter": "python",
   "pygments_lexer": "ipython3",
   "version": "3.10.2"
  }
 },
 "nbformat": 4,
 "nbformat_minor": 5
}
