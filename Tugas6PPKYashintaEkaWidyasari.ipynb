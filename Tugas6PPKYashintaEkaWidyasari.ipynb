{
 "cells": [
  {
   "cell_type": "markdown",
   "id": "264c0adf-ac2f-4bee-9d7a-3ae926bc062f",
   "metadata": {},
   "source": [
    "Yashinta Eka Widyasari 200601110062 Praktikum Pemrograman Komputer"
   ]
  },
  {
   "cell_type": "code",
   "execution_count": 7,
   "id": "db9ec804-d66a-455c-9baf-389697dfe954",
   "metadata": {},
   "outputs": [],
   "source": [
    "from sympy import *\n",
    "x, t, z, nu = symbols('x t z nu')"
   ]
  },
  {
   "cell_type": "code",
   "execution_count": 11,
   "id": "43af03d2-a9ca-431b-885e-10cfdab35931",
   "metadata": {},
   "outputs": [
    {
     "data": {
      "text/latex": [
       "$\\displaystyle 6 x - 2$"
      ],
      "text/plain": [
       "6*x - 2"
      ]
     },
     "execution_count": 11,
     "metadata": {},
     "output_type": "execute_result"
    }
   ],
   "source": [
    "#nomor1\n",
    "a = (x + 2)**2\n",
    "b = x**2 - 2*x + 6\n",
    "simplify(a - b)"
   ]
  },
  {
   "cell_type": "code",
   "execution_count": 16,
   "id": "2401a22d-9c8f-4fbd-9e2a-987b196f2483",
   "metadata": {},
   "outputs": [
    {
     "data": {
      "text/latex": [
       "$\\displaystyle \\frac{\\Gamma\\left(\\frac{1}{6}\\right) {{}_{1}F_{2}\\left(\\begin{matrix} \\frac{1}{6} \\\\ \\frac{1}{2}, \\frac{7}{6} \\end{matrix}\\middle| {- \\frac{1}{4}} \\right)}}{6 \\Gamma\\left(\\frac{7}{6}\\right)}$"
      ],
      "text/plain": [
       "gamma(1/6)*hyper((1/6,), (1/2, 7/6), -1/4)/(6*gamma(7/6))"
      ]
     },
     "execution_count": 16,
     "metadata": {},
     "output_type": "execute_result"
    }
   ],
   "source": [
    "#nomor2\n",
    "integrate(cos(x**2), [x, 0, 1])"
   ]
  },
  {
   "cell_type": "code",
   "execution_count": 17,
   "id": "dc9711f1-28ea-4fb2-a891-43b967001c5f",
   "metadata": {},
   "outputs": [
    {
     "data": {
      "text/latex": [
       "$\\displaystyle 2$"
      ],
      "text/plain": [
       "2"
      ]
     },
     "execution_count": 17,
     "metadata": {},
     "output_type": "execute_result"
    }
   ],
   "source": [
    "#nomor3\n",
    "limit((x**2-1)/(x-1), x, 1)"
   ]
  },
  {
   "cell_type": "code",
   "execution_count": 26,
   "id": "bf3c4cbc-cd36-4054-b563-06e4c1c87028",
   "metadata": {},
   "outputs": [
    {
     "data": {
      "text/latex": [
       "$\\displaystyle 2 \\tan^{2}{\\left(2 x \\right)} + 2$"
      ],
      "text/plain": [
       "2*tan(2*x)**2 + 2"
      ]
     },
     "execution_count": 26,
     "metadata": {},
     "output_type": "execute_result"
    }
   ],
   "source": [
    "#nomor4\n",
    "diff(tan(2*x), x)"
   ]
  },
  {
   "cell_type": "code",
   "execution_count": 25,
   "id": "c80caac9-877f-41c0-99c1-bba554975697",
   "metadata": {},
   "outputs": [
    {
     "data": {
      "text/latex": [
       "$\\displaystyle \\frac{e^{7 x}}{7}$"
      ],
      "text/plain": [
       "exp(7*x)/7"
      ]
     },
     "execution_count": 25,
     "metadata": {},
     "output_type": "execute_result"
    }
   ],
   "source": [
    "#nomor5\n",
    "integrate(exp(7*x), x)"
   ]
  }
 ],
 "metadata": {
  "kernelspec": {
   "display_name": "Python 3 (ipykernel)",
   "language": "python",
   "name": "python3"
  },
  "language_info": {
   "codemirror_mode": {
    "name": "ipython",
    "version": 3
   },
   "file_extension": ".py",
   "mimetype": "text/x-python",
   "name": "python",
   "nbconvert_exporter": "python",
   "pygments_lexer": "ipython3",
   "version": "3.10.2"
  }
 },
 "nbformat": 4,
 "nbformat_minor": 5
}
