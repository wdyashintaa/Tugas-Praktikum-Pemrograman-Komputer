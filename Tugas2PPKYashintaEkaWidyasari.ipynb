{
 "cells": [
  {
   "cell_type": "code",
   "execution_count": null,
   "id": "c02832d0-8b3e-4f29-8258-341849739357",
   "metadata": {},
   "outputs": [],
   "source": [
    "Yashinta Eka Widyasari (200601110062)_Praktikum Pemrograman Komputer (F)"
   ]
  },
  {
   "cell_type": "markdown",
   "id": "38933a0f-b585-4bc1-ab13-274b24ac3e6f",
   "metadata": {},
   "source": [
    "Tipe List merupakan objek yang bersifat mutable atau nilainya dapat diubah, Dalam list kita dapat menambah, mengubah, atau menghapus elemen - elemen yang terdapat didalam list, Objek list dibuat menggunakan tanda [], Setiap Objek atau elemen harus dibatasi dengan tanda koma   "
   ]
  },
  {
   "cell_type": "code",
   "execution_count": 1,
   "id": "fe1db39c-7895-4842-b782-0f28bf1fcb60",
   "metadata": {},
   "outputs": [
    {
     "data": {
      "text/plain": [
       "[10, 8.12, 6, 15]"
      ]
     },
     "execution_count": 1,
     "metadata": {},
     "output_type": "execute_result"
    }
   ],
   "source": [
    "list1=[100,200,300,400]\n",
    "list2=[1,'Pemrograman Komputer',12000.00]\n",
    "list=[10,8.12,6,15]\n",
    "list"
   ]
  },
  {
   "cell_type": "code",
   "execution_count": 2,
   "id": "467a240c-2ae7-4402-a7a4-a1bc59fef465",
   "metadata": {},
   "outputs": [
    {
     "data": {
      "text/plain": [
       "[10, 8, 12, 6, 15]"
      ]
     },
     "execution_count": 2,
     "metadata": {},
     "output_type": "execute_result"
    }
   ],
   "source": [
    "len(list)#Menghitung banyaknya elemen didalam list5\n",
    "li=[10,8,12,6,15]\n",
    "li"
   ]
  },
  {
   "cell_type": "code",
   "execution_count": 3,
   "id": "e1855fab-2bd2-4e47-8b45-ec4c7a91420a",
   "metadata": {},
   "outputs": [
    {
     "data": {
      "text/plain": [
       "(10, 8, 12, 6, 15)"
      ]
     },
     "execution_count": 3,
     "metadata": {},
     "output_type": "execute_result"
    }
   ],
   "source": [
    "li[0],li[1],li[2],li[3],li[4]"
   ]
  },
  {
   "cell_type": "code",
   "execution_count": 4,
   "id": "592a7405-750a-442f-ac4a-3ca674381158",
   "metadata": {},
   "outputs": [
    {
     "data": {
      "text/plain": [
       "(10, 8, 12, 6, 15)"
      ]
     },
     "execution_count": 4,
     "metadata": {},
     "output_type": "execute_result"
    }
   ],
   "source": [
    "li[-5],li[-4],li[-3],li[-2],li[-1]"
   ]
  },
  {
   "cell_type": "code",
   "execution_count": 11,
   "id": "f33307b2-86e5-4e74-8aff-cae4836311dc",
   "metadata": {},
   "outputs": [
    {
     "data": {
      "text/plain": [
       "[10, 8, 12, 6, 15, 20, 25, 100, 200, 300]"
      ]
     },
     "execution_count": 11,
     "metadata": {},
     "output_type": "execute_result"
    }
   ],
   "source": [
    "li.append(20)#menambahkan elemen dalam list\n",
    "li.append(25)\n",
    "li=[10, 8, 12, 6, 15, 20, 25]\n",
    "li.extend([100,200,300])#menambahkan list dalam sebuah list\n",
    "li"
   ]
  },
  {
   "cell_type": "code",
   "execution_count": 12,
   "id": "c654e9f5-915e-44e6-a36e-a5c112e3b8de",
   "metadata": {},
   "outputs": [
    {
     "data": {
      "text/plain": [
       "[99, 77, 12, 6, 15, 20, 25, 100, 200, 300]"
      ]
     },
     "execution_count": 12,
     "metadata": {},
     "output_type": "execute_result"
    }
   ],
   "source": [
    "li[0]=99\n",
    "li[1]=77\n",
    "li"
   ]
  },
  {
   "cell_type": "code",
   "execution_count": 13,
   "id": "e106dc6c-cd86-4445-8cd0-337299589e61",
   "metadata": {},
   "outputs": [
    {
     "data": {
      "text/plain": [
       "[77, 12, 6, 20, 25, 100, 200]"
      ]
     },
     "execution_count": 13,
     "metadata": {},
     "output_type": "execute_result"
    }
   ],
   "source": [
    "li.remove(99)#menghapus elemen di dalam list\n",
    "li.remove(300)\n",
    "li.remove(15)\n",
    "li"
   ]
  },
  {
   "cell_type": "code",
   "execution_count": 14,
   "id": "a9b85fd5-227c-4cca-9fad-a8b5ea6f6a35",
   "metadata": {},
   "outputs": [
    {
     "data": {
      "text/plain": [
       "[]"
      ]
     },
     "execution_count": 14,
     "metadata": {},
     "output_type": "execute_result"
    }
   ],
   "source": [
    "li.clear()#Menghapus Semua elemen didalam list\n",
    "li"
   ]
  },
  {
   "cell_type": "markdown",
   "id": "63773f4d-8681-494d-b735-37b927387910",
   "metadata": {},
   "source": [
    "Tipe Dictionary merupakan objek yang berisi daftar pasangan kunci dan nilai, Pada struktur data list, elemen - elemen diindeks berdasarkan bilangan positif maupun negatif tergantung dari arah mana elemen - elemen tersebut akan diakses. Pada struktur dat dictionary, elemen diindeks berdasarkan kuncinya menggunakan [] dan setiap pasangan kunci harus dipisahkan menggunakan tanda (:)   "
   ]
  },
  {
   "cell_type": "code",
   "execution_count": 15,
   "id": "d7bcdd10-fa5a-4583-9796-6ec6c55a3e4a",
   "metadata": {},
   "outputs": [
    {
     "data": {
      "text/plain": [
       "{'A': 4, 'B': 3, 'C': 2, 'D': 1, 'E': 0}"
      ]
     },
     "execution_count": 15,
     "metadata": {},
     "output_type": "execute_result"
    }
   ],
   "source": [
    "na={'A':4, 'B':3, 'C':2, 'D':1, 'E':0}\n",
    "na"
   ]
  },
  {
   "cell_type": "code",
   "execution_count": 16,
   "id": "90403881-409f-4247-baae-c933fce6bb9b",
   "metadata": {},
   "outputs": [
    {
     "data": {
      "text/plain": [
       "dict_keys(['A', 'B', 'C', 'D', 'E'])"
      ]
     },
     "execution_count": 16,
     "metadata": {},
     "output_type": "execute_result"
    }
   ],
   "source": [
    "na.keys()#Menampilkan kata kunci(key) dalam Dictionary"
   ]
  },
  {
   "cell_type": "code",
   "execution_count": 17,
   "id": "16973318-8c72-4444-835c-054d1b5da12a",
   "metadata": {},
   "outputs": [
    {
     "data": {
      "text/plain": [
       "dict_values([4, 3, 2, 1, 0])"
      ]
     },
     "execution_count": 17,
     "metadata": {},
     "output_type": "execute_result"
    }
   ],
   "source": [
    "na.values()#menampilkan kata value dalam Dictionary"
   ]
  },
  {
   "cell_type": "code",
   "execution_count": 18,
   "id": "ba454611-d3cd-4749-a4fb-aba81cdb6f3a",
   "metadata": {},
   "outputs": [
    {
     "data": {
      "text/plain": [
       "4"
      ]
     },
     "execution_count": 18,
     "metadata": {},
     "output_type": "execute_result"
    }
   ],
   "source": [
    "na['A']"
   ]
  },
  {
   "cell_type": "code",
   "execution_count": 19,
   "id": "51561564-3dda-4a97-871c-58b68ef50f3f",
   "metadata": {},
   "outputs": [
    {
     "data": {
      "text/plain": [
       "3"
      ]
     },
     "execution_count": 19,
     "metadata": {},
     "output_type": "execute_result"
    }
   ],
   "source": [
    "na['B']"
   ]
  },
  {
   "cell_type": "code",
   "execution_count": 20,
   "id": "2315665d-84c6-4203-8f12-774ad27555da",
   "metadata": {},
   "outputs": [
    {
     "data": {
      "text/plain": [
       "2"
      ]
     },
     "execution_count": 20,
     "metadata": {},
     "output_type": "execute_result"
    }
   ],
   "source": [
    "na['C']"
   ]
  },
  {
   "cell_type": "code",
   "execution_count": 21,
   "id": "f89af125-e3bb-41d3-b638-f8f062bb9dac",
   "metadata": {},
   "outputs": [
    {
     "data": {
      "text/plain": [
       "'kucing'"
      ]
     },
     "execution_count": 21,
     "metadata": {},
     "output_type": "execute_result"
    }
   ],
   "source": [
    "kamus={'mouse':'tikus','cat':'kucing'}\n",
    "kamus['cat']"
   ]
  },
  {
   "cell_type": "code",
   "execution_count": 22,
   "id": "98ec7e41-6a38-405d-959a-ff9a2457a014",
   "metadata": {},
   "outputs": [
    {
     "data": {
      "text/plain": [
       "dict_keys(['mouse', 'cat'])"
      ]
     },
     "execution_count": 22,
     "metadata": {},
     "output_type": "execute_result"
    }
   ],
   "source": [
    "kamus.keys()"
   ]
  },
  {
   "cell_type": "code",
   "execution_count": 23,
   "id": "8cd2e9ad-d8ef-48bc-a524-83b4b2e40116",
   "metadata": {},
   "outputs": [
    {
     "data": {
      "text/plain": [
       "dict_values(['tikus', 'kucing'])"
      ]
     },
     "execution_count": 23,
     "metadata": {},
     "output_type": "execute_result"
    }
   ],
   "source": [
    "kamus.values()"
   ]
  },
  {
   "cell_type": "markdown",
   "id": "a0623c84-afb9-477d-bf21-9b130cee15a1",
   "metadata": {},
   "source": [
    "Tipe Tuple bersifat immutable atau elemen - elemennya tidak dapat diubah, baik nilai maupun jumlah. Tuple dibuat menggunakan tanda ()"
   ]
  },
  {
   "cell_type": "code",
   "execution_count": 24,
   "id": "6fd11224-152a-4e5f-8494-9aaf209fca86",
   "metadata": {},
   "outputs": [
    {
     "data": {
      "text/plain": [
       "10"
      ]
     },
     "execution_count": 24,
     "metadata": {},
     "output_type": "execute_result"
    }
   ],
   "source": [
    "t=(10,20,30)\n",
    "t[0]"
   ]
  },
  {
   "cell_type": "code",
   "execution_count": 25,
   "id": "191627b5-e7ea-415a-b8f4-c84ccc5ee1ae",
   "metadata": {},
   "outputs": [
    {
     "data": {
      "text/plain": [
       "20"
      ]
     },
     "execution_count": 25,
     "metadata": {},
     "output_type": "execute_result"
    }
   ],
   "source": [
    "t[1]"
   ]
  },
  {
   "cell_type": "code",
   "execution_count": 26,
   "id": "773041a7-a741-4e48-ae41-37e2ab05471a",
   "metadata": {},
   "outputs": [
    {
     "data": {
      "text/plain": [
       "30"
      ]
     },
     "execution_count": 26,
     "metadata": {},
     "output_type": "execute_result"
    }
   ],
   "source": [
    "t[2]"
   ]
  },
  {
   "cell_type": "code",
   "execution_count": 27,
   "id": "4fddcac0-11b0-482b-8363-fcd9dfa9c09d",
   "metadata": {},
   "outputs": [
    {
     "data": {
      "text/plain": [
       "(10, 20, 30)"
      ]
     },
     "execution_count": 27,
     "metadata": {},
     "output_type": "execute_result"
    }
   ],
   "source": [
    "t[-3],t[-2],t[-1]"
   ]
  },
  {
   "cell_type": "code",
   "execution_count": 28,
   "id": "7bdd4004-1ab7-460a-96f0-9b882ff49755",
   "metadata": {},
   "outputs": [
    {
     "data": {
      "text/plain": [
       "3"
      ]
     },
     "execution_count": 28,
     "metadata": {},
     "output_type": "execute_result"
    }
   ],
   "source": [
    "len(t)#menghitung banyaknya elemen didalam Tuple"
   ]
  },
  {
   "cell_type": "markdown",
   "id": "7367af64-9380-4030-9ff5-56ba06cb4d80",
   "metadata": {},
   "source": [
    "Tipe set adalah tipe koleksi yang setiap elemennya bersifat unik. Jika pada saat pembuatan pembuatan set terdapat elemen yang nilainya sama, maka elemen - elemen tersebut hanya akan diambil satu, sisanya secara otomatis dibuang. Set dibuat menggunakan fungsi set() dengan parameter bisa berupa list, dictionary, tuple, maupun string  "
   ]
  },
  {
   "cell_type": "code",
   "execution_count": 29,
   "id": "a13ba326-ad66-4f70-a0d6-a15a6bccf04e",
   "metadata": {},
   "outputs": [
    {
     "data": {
      "text/plain": [
       "{10, 20, 30}"
      ]
     },
     "execution_count": 29,
     "metadata": {},
     "output_type": "execute_result"
    }
   ],
   "source": [
    "s=set([10,10,20,30,30,30])\n",
    "s"
   ]
  },
  {
   "cell_type": "code",
   "execution_count": 30,
   "id": "26324e60-3374-4438-825d-231dcdf9dec4",
   "metadata": {},
   "outputs": [
    {
     "data": {
      "text/plain": [
       "3"
      ]
     },
     "execution_count": 30,
     "metadata": {},
     "output_type": "execute_result"
    }
   ],
   "source": [
    "len(s)"
   ]
  },
  {
   "cell_type": "code",
   "execution_count": 31,
   "id": "91eebfde-84cd-48b4-bf5c-8b5458ca40a5",
   "metadata": {},
   "outputs": [
    {
     "data": {
      "text/plain": [
       "{10, 20, 30, 60}"
      ]
     },
     "execution_count": 31,
     "metadata": {},
     "output_type": "execute_result"
    }
   ],
   "source": [
    "s.add(60)#menambahkan anggota himpunan(set)\n",
    "s"
   ]
  },
  {
   "cell_type": "code",
   "execution_count": 32,
   "id": "81bd0d84-90fe-48c0-af92-d20689be7bdd",
   "metadata": {},
   "outputs": [
    {
     "data": {
      "text/plain": [
       "4"
      ]
     },
     "execution_count": 32,
     "metadata": {},
     "output_type": "execute_result"
    }
   ],
   "source": [
    "len(s)"
   ]
  },
  {
   "cell_type": "code",
   "execution_count": null,
   "id": "a61985f4-60b7-4ad9-890d-27c0b7cefa5e",
   "metadata": {},
   "outputs": [],
   "source": []
  }
 ],
 "metadata": {
  "kernelspec": {
   "display_name": "Python 3 (ipykernel)",
   "language": "python",
   "name": "python3"
  },
  "language_info": {
   "codemirror_mode": {
    "name": "ipython",
    "version": 3
   },
   "file_extension": ".py",
   "mimetype": "text/x-python",
   "name": "python",
   "nbconvert_exporter": "python",
   "pygments_lexer": "ipython3",
   "version": "3.10.2"
  }
 },
 "nbformat": 4,
 "nbformat_minor": 5
}
