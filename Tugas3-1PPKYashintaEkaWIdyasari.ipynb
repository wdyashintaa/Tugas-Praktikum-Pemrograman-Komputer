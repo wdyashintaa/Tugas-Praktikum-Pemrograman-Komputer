{
 "cells": [
  {
   "cell_type": "markdown",
   "id": "feac79f2-3769-4e51-9374-64a94c06a02f",
   "metadata": {},
   "source": [
    "Yashinta Eka WIdyasari-200601110062-Prak. Pemrograman Komputer(F)"
   ]
  },
  {
   "cell_type": "markdown",
   "id": "e3a7fae5-db67-47d0-bafd-dd4adb66b0e7",
   "metadata": {},
   "source": [
    "Fungsi Global adalah fungsi yang didefinisikan di dalam suantu modul dan dapat dipanggil oleh fungsi lain, baik yang berada di dalam modul yang sama maupun modul lain.\n"
   ]
  },
  {
   "cell_type": "code",
   "execution_count": 1,
   "id": "7d419275-3b55-4511-88af-9671fa7029a0",
   "metadata": {},
   "outputs": [],
   "source": [
    "def kali (a,b):\n",
    "    c = a*b\n",
    "    return c # mengembalikan nilai ke baris pemanggil\n"
   ]
  },
  {
   "cell_type": "code",
   "execution_count": 2,
   "id": "af430e18-be72-4240-ba76-6d964628f104",
   "metadata": {},
   "outputs": [],
   "source": [
    "def tulis(s):\n",
    "    print(s)\n",
    "    "
   ]
  },
  {
   "cell_type": "code",
   "execution_count": 3,
   "id": "29b45a52-da32-4d7d-b1bc-cbfa729c5951",
   "metadata": {},
   "outputs": [
    {
     "data": {
      "text/plain": [
       "50"
      ]
     },
     "execution_count": 3,
     "metadata": {},
     "output_type": "execute_result"
    }
   ],
   "source": [
    "z=kali(10,5)\n",
    "z"
   ]
  },
  {
   "cell_type": "code",
   "execution_count": 4,
   "id": "51b5291b-3efe-4368-99de-32d1da726063",
   "metadata": {},
   "outputs": [
    {
     "name": "stdout",
     "output_type": "stream",
     "text": [
      "Pemrograman Komputer I dengan Phython\n"
     ]
    }
   ],
   "source": [
    "tulis('Pemrograman Komputer I dengan Phython')"
   ]
  },
  {
   "cell_type": "code",
   "execution_count": 5,
   "id": "39b4fe22-362d-42bc-ad5c-c1c332d0100f",
   "metadata": {},
   "outputs": [
    {
     "name": "stdout",
     "output_type": "stream",
     "text": [
      "50\n"
     ]
    }
   ],
   "source": [
    "tulis(z)"
   ]
  },
  {
   "cell_type": "markdown",
   "id": "b5d12ee8-832d-4ad6-b2b7-ffb4b438fe76",
   "metadata": {},
   "source": [
    "Percobaan Conditional if"
   ]
  },
  {
   "cell_type": "code",
   "execution_count": 16,
   "id": "1352b41c-e5af-4f1b-9f03-c142003232d3",
   "metadata": {},
   "outputs": [
    {
     "name": "stdin",
     "output_type": "stream",
     "text": [
      "Masukkan nilai anda:   92\n"
     ]
    }
   ],
   "source": [
    "nilai = input(\"Masukkan nilai anda:  \")"
   ]
  },
  {
   "cell_type": "code",
   "execution_count": 17,
   "id": "56cfa642-3f5b-4c71-b4f8-a72d76ce1b67",
   "metadata": {},
   "outputs": [
    {
     "name": "stdout",
     "output_type": "stream",
     "text": [
      "Anda lulus ujian! SELAMAT!\n"
     ]
    }
   ],
   "source": [
    "if int(nilai)>= 70:\n",
    "    print(\"Anda lulus ujian! SELAMAT!\")"
   ]
  },
  {
   "cell_type": "code",
   "execution_count": 18,
   "id": "c15835a7-9414-4c6b-aa15-ea0dde12a443",
   "metadata": {},
   "outputs": [
    {
     "name": "stdout",
     "output_type": "stream",
     "text": [
      "Anda lulus ujian! SELAMAT!\n"
     ]
    }
   ],
   "source": [
    "if int(nilai)>= 70:\n",
    "    print(\"Anda lulus ujian! SELAMAT!\" )\n",
    "else:\n",
    "    print(\"Anda belum lulus ujian!\")"
   ]
  },
  {
   "cell_type": "code",
   "execution_count": 19,
   "id": "aa457209-1988-4e90-b6cc-799c0658e5b0",
   "metadata": {},
   "outputs": [
    {
     "name": "stdout",
     "output_type": "stream",
     "text": [
      "Anda lulus ujian! SELAMAT\n"
     ]
    }
   ],
   "source": [
    "if int(nilai)<0 or int(nilai)>100:\n",
    "    print(\"Nilai Anda TIDAK valid\")\n",
    "elif int(nilai)>= 70:\n",
    "    print(\"Anda lulus ujian! SELAMAT\")\n",
    "else:\n",
    "    print(\"Anda belum lulus Ujian!\")"
   ]
  },
  {
   "cell_type": "code",
   "execution_count": null,
   "id": "042d88b3-de53-42c0-9689-01757a97cfa0",
   "metadata": {},
   "outputs": [],
   "source": []
  }
 ],
 "metadata": {
  "kernelspec": {
   "display_name": "Python 3 (ipykernel)",
   "language": "python",
   "name": "python3"
  },
  "language_info": {
   "codemirror_mode": {
    "name": "ipython",
    "version": 3
   },
   "file_extension": ".py",
   "mimetype": "text/x-python",
   "name": "python",
   "nbconvert_exporter": "python",
   "pygments_lexer": "ipython3",
   "version": "3.10.2"
  }
 },
 "nbformat": 4,
 "nbformat_minor": 5
}
