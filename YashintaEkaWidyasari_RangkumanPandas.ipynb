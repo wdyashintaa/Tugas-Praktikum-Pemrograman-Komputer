{
 "cells": [
  {
   "cell_type": "code",
   "execution_count": 1,
   "id": "bb42eb2c-424e-4c47-819a-edb6b855993a",
   "metadata": {},
   "outputs": [
    {
     "name": "stdout",
     "output_type": "stream",
     "text": [
      "Yashinta Eka Widyasari-200601110062-PPK(F)\n"
     ]
    }
   ],
   "source": [
    "print(\"Yashinta Eka Widyasari-200601110062-PPK(F)\")"
   ]
  },
  {
   "cell_type": "markdown",
   "id": "dc29d2c2-b30b-4afb-b270-afa6f6ac9bdb",
   "metadata": {},
   "source": [
    "Pandas\n",
    "\n",
    "Pandas adalah sebuah librari berlisensi BSD yang memiliki struktur data yang diperlukan untuk mengkonversi data ke dalam format tabel untuk memudahkan analisis "
   ]
  },
  {
   "cell_type": "markdown",
   "id": "d721f24f-864f-4f66-aa44-9b381506bdc7",
   "metadata": {},
   "source": [
    "DataFrame\n",
    "\n",
    "DataFrame merupakan struktur dasar dari pandas dengan koleksi kolom yang berurutan denang bentuk sebuah tabel yang tampak seperti database.\n",
    "Dengan adatanya fitur ini dapat memudahkan untuk membaca sebuah file dan menjadikannya tabel."
   ]
  },
  {
   "cell_type": "markdown",
   "id": "507f47c0-e1b4-4d3f-a0a1-c6aa2ab379be",
   "metadata": {},
   "source": [
    "Kegunaan Pandas\n",
    "\n",
    "- Dapat membaca dan menulis file ke bentuk CSV dan file lainnya dalam database\n",
    "- Dapat digunakan untk menghitung jumlah statistik dalam data seperti menghitung rata-rata, media, maximum atau minimum\n",
    "- Membersihkan data dengan menghapus nilai yang hilang (missing values) dan menyortir kolom dan baris, dapat memvisualisasikan data dengan bantuan Matplotlib\n",
    "- Dapat digunakan untuk mengolah data dengan menggunakan operasi seperti join, distinct, group by, agregasi dan teknik lainnya"
   ]
  },
  {
   "cell_type": "markdown",
   "id": "69dc6d4d-b998-4296-aff7-456dc430bab9",
   "metadata": {},
   "source": [
    "Cara Install Pandas\n",
    "\n",
    "Cara yang dilakukan untuk menginstall pandas adalah dengan mengetik kode berikut pada command prompt\n",
    "- conda install pandas, atau\n",
    "- pip install pandas\n"
   ]
  },
  {
   "cell_type": "markdown",
   "id": "c35dd592-7e96-4ba5-a947-73bfb6ae365b",
   "metadata": {},
   "source": [
    "Cara Import Pandas\n",
    "\n",
    "Untuk menginstall pandas dapat dilakukan dengan mengetik kode berikut pada aplikasi\n",
    "- import panda as pd"
   ]
  },
  {
   "cell_type": "markdown",
   "id": "977653a5-d700-4c01-8cd9-d637f4989e80",
   "metadata": {},
   "source": [
    "Komponen Utama pada Pandas\n",
    "\n",
    "- Series adalah suatu kolom \n",
    "- DataFrame adalah kumpulan dari series, dapat berupa tabel atau multidimensi"
   ]
  },
  {
   "cell_type": "markdown",
   "id": "931c7f22-8093-4738-9dbd-544d174cdd7e",
   "metadata": {},
   "source": [
    "Pembuatan DataFrame\n",
    "\n",
    "Dataframe dapat terbentuk dari hasil read data atau dapat dibuat sendiri(created from scratch), dengan cara paling sederhana adalah dengan menggunakan struktur data dict dalam python. "
   ]
  },
  {
   "cell_type": "markdown",
   "id": "14b0e25a-e2c0-46b4-8787-4c15f0e3f995",
   "metadata": {},
   "source": [
    "Contoh Pembuatan DataFrame"
   ]
  },
  {
   "cell_type": "code",
   "execution_count": 7,
   "id": "1dcef1a0-99f4-4360-8f25-376243f9a76c",
   "metadata": {},
   "outputs": [
    {
     "name": "stdout",
     "output_type": "stream",
     "text": [
      "   apples  oranges\n",
      "0       5        1\n",
      "1       6        3\n",
      "2       2        4\n",
      "3       3        0\n"
     ]
    }
   ],
   "source": [
    "import pandas as pd\n",
    "\n",
    "data={'apples':[5,6,2,3], 'oranges':[1,3,4,0]}\n",
    "purchases=pd.DataFrame(data)\n",
    "print(purchases)"
   ]
  },
  {
   "cell_type": "markdown",
   "id": "ed0ea121-825d-427a-9323-4238b25a317b",
   "metadata": {},
   "source": [
    "Penambahan Index Dalam sebuah DataFrame"
   ]
  },
  {
   "cell_type": "code",
   "execution_count": 6,
   "id": "71147a9a-329e-4fd5-b3cc-5f033ec32eb6",
   "metadata": {},
   "outputs": [
    {
     "name": "stdout",
     "output_type": "stream",
     "text": [
      "       apples  oranges\n",
      "Maddy       5        1\n",
      "Rue         6        3\n",
      "Alex        2        4\n",
      "Dean        3        0\n"
     ]
    }
   ],
   "source": [
    "purchases=pd.DataFrame(data,index=['Maddy','Rue','Alex','Dean'])\n",
    "print(purchases)"
   ]
  },
  {
   "cell_type": "markdown",
   "id": "8556449f-f354-48a9-8611-21c69ebd062d",
   "metadata": {},
   "source": [
    "Untuk Mengakses setiap index yang ada kita dapat melakukannya seperti dibawah ini"
   ]
  },
  {
   "cell_type": "code",
   "execution_count": 7,
   "id": "92d5eabe-0d37-436f-bfff-d6798d8f7507",
   "metadata": {},
   "outputs": [
    {
     "name": "stdout",
     "output_type": "stream",
     "text": [
      "apples     6\n",
      "oranges    3\n",
      "Name: Rue, dtype: int64\n"
     ]
    }
   ],
   "source": [
    "print(purchases.loc['Rue'])"
   ]
  },
  {
   "cell_type": "markdown",
   "id": "fec1c6f2-ce4b-41ec-bc96-b9c290e41ab6",
   "metadata": {},
   "source": [
    "Cara membaca data \n",
    "\n",
    "- df=pd.read_csv('purchases.csv') > purchases.csv adalah nama file\n",
    "\n",
    "Tanpa Index otomatis\n",
    "- df=pd.read_csv('purchases.csv', index_col=0)\n",
    "\n",
    "Baca JSON\n",
    "- df=pd.read_json('purchases.json')\n",
    "\n",
    "Baca Excel\n",
    "- df1=pd.read_excel(\"mhs.xlsx\", sheet_name='mahasiswa') > dimana mhs.xlsx adalah nama file excel"
   ]
  },
  {
   "cell_type": "markdown",
   "id": "29f24226-b19e-4010-b0bb-cd224b92385e",
   "metadata": {},
   "source": [
    "Fungsi lainnya\n",
    "\n",
    "- df.head() → pengambilan 5 data pertama\n",
    "- df.head(10)→ pengambilan 10 data pertama df.tail(8)→ pengambilan 8 data terakhir\n",
    "- df.columns menampilkan nama kolom\n",
    "- df[['nama', 'alamat']] > pilih kolom tertentu \n",
    "\n",
    "• Mengacu ke data sebelumnya :\n",
    "\n",
    "purchases[\"oranges\"].min()→ data terkecil\n",
    "purchases[\"oranges\"].max)→ data terbesar purchases[\"oranges\"].mean()→ rata-rata\n",
    "purchases[\"oranges\").sum()→ jumlah\n",
    "purchases[\"oranges\"].count() cacah purchases[purchases['oranges'] == 3] → filter data"
   ]
  },
  {
   "cell_type": "markdown",
   "id": "7647a013-5312-4b9a-8bca-9a21141c59a1",
   "metadata": {},
   "source": [
    "Operator Logical\n",
    "\n",
    "logical operators | untuk \"or\" dan & untuk \"and\". \n",
    "- df [ (df ['jur'] 'SI') (df['jur'] == 'TI')].head ()\n",
    "\n",
    "Penggunaan\n",
    "\n",
    "isin\n",
    "\n",
    "df (df ['jur'].isin (['SI', 'TI'])].head()"
   ]
  },
  {
   "cell_type": "markdown",
   "id": "02b61078-1635-4a86-928e-214e7a4112c3",
   "metadata": {},
   "source": [
    "Cara menambahkan kolom Baru"
   ]
  },
  {
   "cell_type": "code",
   "execution_count": 6,
   "id": "93aa4848-4dc7-4e2e-ae2e-8d01ae0bedf3",
   "metadata": {},
   "outputs": [
    {
     "name": "stdout",
     "output_type": "stream",
     "text": [
      "        celcius\n",
      "Bantul     17.0\n",
      "Sleman     25.0\n"
     ]
    }
   ],
   "source": [
    "import pandas as pd\n",
    "\n",
    "data1=pd.DataFrame({'celcius': [17.0, 25.0]}, index=['Bantul','Sleman'])\n",
    "print(data1)"
   ]
  },
  {
   "cell_type": "markdown",
   "id": "0f168f3a-1fe7-4a7f-8d40-1189d9d87c00",
   "metadata": {},
   "source": [
    "Apabila Akan ditambahkan kolom Fahrenheit"
   ]
  },
  {
   "cell_type": "code",
   "execution_count": 11,
   "id": "6fc08993-8f35-46f6-94a4-619d1f7d40bd",
   "metadata": {},
   "outputs": [
    {
     "name": "stdout",
     "output_type": "stream",
     "text": [
      "        celcius   fah\n",
      "Bantul     17.0  62.6\n",
      "Sleman     25.0  77.0\n"
     ]
    }
   ],
   "source": [
    "data1=data1.assign(fah=data1['celcius']*9/5+32)\n",
    "print(data1)"
   ]
  },
  {
   "cell_type": "markdown",
   "id": "1fdcf525-33e2-4688-8f8d-825a29bfddad",
   "metadata": {},
   "source": [
    "Apabila Akan ditambahkan kolom lambda function"
   ]
  },
  {
   "cell_type": "code",
   "execution_count": 12,
   "id": "1c570b19-f8dd-4b7a-a0e6-e9b17d59f225",
   "metadata": {},
   "outputs": [
    {
     "name": "stdout",
     "output_type": "stream",
     "text": [
      "        celcius   fah   rea\n",
      "Bantul     17.0  62.6  13.6\n",
      "Sleman     25.0  77.0  20.0\n"
     ]
    }
   ],
   "source": [
    "data1=data1.assign(rea=lambda x: x.celcius*4/5)\n",
    "print(data1)"
   ]
  },
  {
   "cell_type": "code",
   "execution_count": 5,
   "id": "1fefab6b-055a-4ed9-a7c6-3076b9c918ac",
   "metadata": {},
   "outputs": [
    {
     "name": "stdout",
     "output_type": "stream",
     "text": [
      "Apply Function\n",
      "   Nama  IPK\n",
      "0  Andi  2.3\n",
      "1  Rudi  3.1\n",
      "2  Siti  1.8\n",
      "3   Ani  2.9\n"
     ]
    }
   ],
   "source": [
    "import pandas as pd\n",
    "\n",
    "print(\"Apply Function\")\n",
    "\n",
    "data2=pd.DataFrame({'Nama':['Andi', 'Rudi', 'Siti', 'Ani'], 'IPK':[2.3, 3.1, 1.8, 2.9]})\n",
    "print(data2)"
   ]
  },
  {
   "cell_type": "markdown",
   "id": "80f0898a-330f-47d5-b22d-c13743186a5c",
   "metadata": {},
   "source": [
    "Apabila ingin ditambah  fungsi"
   ]
  },
  {
   "cell_type": "code",
   "execution_count": 18,
   "id": "f16f250d-428e-48a7-a8f5-de1259525caf",
   "metadata": {},
   "outputs": [
    {
     "name": "stdout",
     "output_type": "stream",
     "text": [
      "   Nama  IPK        status    Keterangan\n",
      "0  Andi  2.3         Cukup         Cukup\n",
      "1  Rudi  3.1  Sangat Bagus  Sangat Bagus\n",
      "2  Siti  1.8         Cukup         Cukup\n",
      "3   Ani  2.9  Sangat Bagus  Sangat Bagus\n"
     ]
    }
   ],
   "source": [
    "def group_nilai(a):\n",
    "    if a>2.75:\n",
    "        hasil=\"Sangat Bagus\"\n",
    "    elif a==2.75:\n",
    "        hasil=\"Bagus\"\n",
    "    else:\n",
    "        hasil=\"Cukup\"\n",
    "    return hasil\n",
    "    \n",
    "data2=data2.assign(status=data2['IPK'].apply(group_nilai))\n",
    "print(data2)"
   ]
  },
  {
   "cell_type": "markdown",
   "id": "4e4b72ef-193f-4158-97dc-0715171dbc22",
   "metadata": {},
   "source": [
    "Memanggil data tertentu pada DataFrame\n",
    "\n",
    "Contoh didapat DataFrame seperti dibawah ini\n"
   ]
  },
  {
   "cell_type": "code",
   "execution_count": 30,
   "id": "32724165-8a99-4c72-b204-1d8cb451b3ec",
   "metadata": {},
   "outputs": [
    {
     "name": "stdout",
     "output_type": "stream",
     "text": [
      "      Nama  Usia\n",
      "0  Clarisa    26\n",
      "1    Gavin    24\n",
      "2      Lia    16\n",
      "3      Ale    22\n"
     ]
    }
   ],
   "source": [
    "import pandas as pd\n",
    "import numpy as np\n",
    "\n",
    "df=[['Clarisa',26],['Gavin',24],['Lia',16],['Ale',22]]\n",
    "data3=pd.DataFrame(df,columns=['Nama','Usia'])\n",
    "print(data3)"
   ]
  },
  {
   "cell_type": "markdown",
   "id": "9202f881-6d4a-4f2b-8c7d-87617ca39923",
   "metadata": {},
   "source": [
    "Apabila ingin memanggil kolom tertentu"
   ]
  },
  {
   "cell_type": "code",
   "execution_count": 3,
   "id": "a97dbc2e-c6b9-4b9b-b549-9c507bf17b80",
   "metadata": {},
   "outputs": [
    {
     "data": {
      "text/plain": [
       "0    26\n",
       "1    24\n",
       "2    16\n",
       "3    22\n",
       "Name: Usia, dtype: int64"
      ]
     },
     "execution_count": 3,
     "metadata": {},
     "output_type": "execute_result"
    }
   ],
   "source": [
    "data3[\"Usia\"]"
   ]
  },
  {
   "cell_type": "code",
   "execution_count": 15,
   "id": "6ec541ef-d464-472b-9d1a-b0c4e0c8627e",
   "metadata": {},
   "outputs": [
    {
     "data": {
      "text/plain": [
       "0    Clarisa\n",
       "1      Gavin\n",
       "2        Lia\n",
       "3        Ale\n",
       "Name: Nama, dtype: object"
      ]
     },
     "execution_count": 15,
     "metadata": {},
     "output_type": "execute_result"
    }
   ],
   "source": [
    "data3[\"Nama\"]"
   ]
  },
  {
   "cell_type": "code",
   "execution_count": 17,
   "id": "3070418f-fe9e-4e15-b0fb-ce048fe88cac",
   "metadata": {},
   "outputs": [
    {
     "data": {
      "text/plain": [
       "'Clarisa'"
      ]
     },
     "execution_count": 17,
     "metadata": {},
     "output_type": "execute_result"
    }
   ],
   "source": [
    "data3.iloc[0][0]"
   ]
  },
  {
   "cell_type": "code",
   "execution_count": 18,
   "id": "d613cdf8-4a80-4a08-b448-5b62ab79ed88",
   "metadata": {},
   "outputs": [
    {
     "data": {
      "text/plain": [
       "'Clarisa'"
      ]
     },
     "execution_count": 18,
     "metadata": {},
     "output_type": "execute_result"
    }
   ],
   "source": [
    "data3.iloc[0]['Nama']"
   ]
  },
  {
   "cell_type": "code",
   "execution_count": 20,
   "id": "549d7f43-b7b5-406f-a278-69fb09f74a2d",
   "metadata": {},
   "outputs": [
    {
     "data": {
      "text/plain": [
       "'Clarisa'"
      ]
     },
     "execution_count": 20,
     "metadata": {},
     "output_type": "execute_result"
    }
   ],
   "source": [
    "data3.at[0,'Nama']"
   ]
  },
  {
   "cell_type": "code",
   "execution_count": 21,
   "id": "aad5bea2-3ee1-4fd5-9b3b-8d495611aa44",
   "metadata": {},
   "outputs": [
    {
     "data": {
      "text/plain": [
       "'Clarisa'"
      ]
     },
     "execution_count": 21,
     "metadata": {},
     "output_type": "execute_result"
    }
   ],
   "source": [
    "data3.iat[0,0]"
   ]
  },
  {
   "cell_type": "code",
   "execution_count": 22,
   "id": "fac8d05a-d5e8-48a2-b6fa-458a4e44b865",
   "metadata": {},
   "outputs": [
    {
     "data": {
      "text/plain": [
       "Nama    Clarisa\n",
       "Usia         26\n",
       "Name: 0, dtype: object"
      ]
     },
     "execution_count": 22,
     "metadata": {},
     "output_type": "execute_result"
    }
   ],
   "source": [
    "data3.iloc[0]"
   ]
  },
  {
   "cell_type": "code",
   "execution_count": 23,
   "id": "34593b43-c678-4906-bda8-e6e8bcc38184",
   "metadata": {},
   "outputs": [
    {
     "data": {
      "text/plain": [
       "0    Clarisa\n",
       "1      Gavin\n",
       "2        Lia\n",
       "3        Ale\n",
       "Name: Nama, dtype: object"
      ]
     },
     "execution_count": 23,
     "metadata": {},
     "output_type": "execute_result"
    }
   ],
   "source": [
    "data3.loc[:,'Nama']"
   ]
  },
  {
   "cell_type": "markdown",
   "id": "0c8d23ea-eb54-4400-a254-02c65261bba4",
   "metadata": {},
   "source": [
    "Set Index"
   ]
  },
  {
   "cell_type": "code",
   "execution_count": 28,
   "id": "4f05dcc4-6ab8-446a-a92f-343e6b270f5f",
   "metadata": {},
   "outputs": [
    {
     "data": {
      "text/html": [
       "<div>\n",
       "<style scoped>\n",
       "    .dataframe tbody tr th:only-of-type {\n",
       "        vertical-align: middle;\n",
       "    }\n",
       "\n",
       "    .dataframe tbody tr th {\n",
       "        vertical-align: top;\n",
       "    }\n",
       "\n",
       "    .dataframe thead th {\n",
       "        text-align: right;\n",
       "    }\n",
       "</style>\n",
       "<table border=\"1\" class=\"dataframe\">\n",
       "  <thead>\n",
       "    <tr style=\"text-align: right;\">\n",
       "      <th></th>\n",
       "      <th>Nama</th>\n",
       "      <th>Usia</th>\n",
       "    </tr>\n",
       "  </thead>\n",
       "  <tbody>\n",
       "    <tr>\n",
       "      <th>0</th>\n",
       "      <td>Clarisa</td>\n",
       "      <td>26</td>\n",
       "    </tr>\n",
       "    <tr>\n",
       "      <th>1</th>\n",
       "      <td>Gavin</td>\n",
       "      <td>24</td>\n",
       "    </tr>\n",
       "    <tr>\n",
       "      <th>2</th>\n",
       "      <td>Lia</td>\n",
       "      <td>16</td>\n",
       "    </tr>\n",
       "    <tr>\n",
       "      <th>3</th>\n",
       "      <td>Ale</td>\n",
       "      <td>22</td>\n",
       "    </tr>\n",
       "  </tbody>\n",
       "</table>\n",
       "</div>"
      ],
      "text/plain": [
       "      Nama  Usia\n",
       "0  Clarisa    26\n",
       "1    Gavin    24\n",
       "2      Lia    16\n",
       "3      Ale    22"
      ]
     },
     "execution_count": 28,
     "metadata": {},
     "output_type": "execute_result"
    }
   ],
   "source": [
    "df1=pd.DataFrame([['Clarisa',26],['Gavin',24],['Lia',16],['Ale',22]],columns=['Nama','Usia'])\n",
    "df1"
   ]
  },
  {
   "cell_type": "code",
   "execution_count": 29,
   "id": "34818744-f468-474f-8d42-ed00e22ec873",
   "metadata": {},
   "outputs": [
    {
     "data": {
      "text/html": [
       "<div>\n",
       "<style scoped>\n",
       "    .dataframe tbody tr th:only-of-type {\n",
       "        vertical-align: middle;\n",
       "    }\n",
       "\n",
       "    .dataframe tbody tr th {\n",
       "        vertical-align: top;\n",
       "    }\n",
       "\n",
       "    .dataframe thead th {\n",
       "        text-align: right;\n",
       "    }\n",
       "</style>\n",
       "<table border=\"1\" class=\"dataframe\">\n",
       "  <thead>\n",
       "    <tr style=\"text-align: right;\">\n",
       "      <th></th>\n",
       "      <th>Usia</th>\n",
       "    </tr>\n",
       "    <tr>\n",
       "      <th>Nama</th>\n",
       "      <th></th>\n",
       "    </tr>\n",
       "  </thead>\n",
       "  <tbody>\n",
       "    <tr>\n",
       "      <th>Clarisa</th>\n",
       "      <td>26</td>\n",
       "    </tr>\n",
       "    <tr>\n",
       "      <th>Gavin</th>\n",
       "      <td>24</td>\n",
       "    </tr>\n",
       "    <tr>\n",
       "      <th>Lia</th>\n",
       "      <td>16</td>\n",
       "    </tr>\n",
       "    <tr>\n",
       "      <th>Ale</th>\n",
       "      <td>22</td>\n",
       "    </tr>\n",
       "  </tbody>\n",
       "</table>\n",
       "</div>"
      ],
      "text/plain": [
       "         Usia\n",
       "Nama         \n",
       "Clarisa    26\n",
       "Gavin      24\n",
       "Lia        16\n",
       "Ale        22"
      ]
     },
     "execution_count": 29,
     "metadata": {},
     "output_type": "execute_result"
    }
   ],
   "source": [
    "df1.set_index('Nama')"
   ]
  },
  {
   "cell_type": "code",
   "execution_count": 46,
   "id": "9b80ec4d-cd2f-4764-9702-525a4ed638ed",
   "metadata": {},
   "outputs": [
    {
     "data": {
      "text/html": [
       "<div>\n",
       "<style scoped>\n",
       "    .dataframe tbody tr th:only-of-type {\n",
       "        vertical-align: middle;\n",
       "    }\n",
       "\n",
       "    .dataframe tbody tr th {\n",
       "        vertical-align: top;\n",
       "    }\n",
       "\n",
       "    .dataframe thead th {\n",
       "        text-align: right;\n",
       "    }\n",
       "</style>\n",
       "<table border=\"1\" class=\"dataframe\">\n",
       "  <thead>\n",
       "    <tr style=\"text-align: right;\">\n",
       "      <th></th>\n",
       "      <th>48</th>\n",
       "      <th>49</th>\n",
       "      <th>50</th>\n",
       "    </tr>\n",
       "  </thead>\n",
       "  <tbody>\n",
       "    <tr>\n",
       "      <th>A</th>\n",
       "      <td>1</td>\n",
       "      <td>2</td>\n",
       "      <td>3</td>\n",
       "    </tr>\n",
       "    <tr>\n",
       "      <th>B</th>\n",
       "      <td>4</td>\n",
       "      <td>5</td>\n",
       "      <td>6</td>\n",
       "    </tr>\n",
       "    <tr>\n",
       "      <th>C</th>\n",
       "      <td>7</td>\n",
       "      <td>8</td>\n",
       "      <td>9</td>\n",
       "    </tr>\n",
       "  </tbody>\n",
       "</table>\n",
       "</div>"
      ],
      "text/plain": [
       "   48  49  50\n",
       "A   1   2   3\n",
       "B   4   5   6\n",
       "C   7   8   9"
      ]
     },
     "execution_count": 46,
     "metadata": {},
     "output_type": "execute_result"
    }
   ],
   "source": [
    "df2=pd.DataFrame(data=np.array([[1,2,3],[4,5,6],[7,8,9]]), index=['A','B','C'], columns=[48,49,50])\n",
    "df2"
   ]
  },
  {
   "cell_type": "code",
   "execution_count": 47,
   "id": "92b855cf-fdda-4da6-adc3-8cc022c807b1",
   "metadata": {},
   "outputs": [
    {
     "data": {
      "text/plain": [
       "48    1\n",
       "49    2\n",
       "50    3\n",
       "Name: A, dtype: int32"
      ]
     },
     "execution_count": 47,
     "metadata": {},
     "output_type": "execute_result"
    }
   ],
   "source": [
    "df2.loc['A']"
   ]
  },
  {
   "cell_type": "code",
   "execution_count": 48,
   "id": "13c288f7-4574-4a09-9bf1-1ca41a8fb2dc",
   "metadata": {},
   "outputs": [
    {
     "data": {
      "text/plain": [
       "48    7\n",
       "49    8\n",
       "50    9\n",
       "Name: C, dtype: int32"
      ]
     },
     "execution_count": 48,
     "metadata": {},
     "output_type": "execute_result"
    }
   ],
   "source": [
    "df2.iloc[2]"
   ]
  },
  {
   "cell_type": "markdown",
   "id": "946fe003-b5dc-46e3-a6c1-69de43770223",
   "metadata": {},
   "source": [
    "Menambah Kolom"
   ]
  },
  {
   "cell_type": "code",
   "execution_count": 49,
   "id": "1d44cf68-9d47-4b0b-9786-d42794cffe51",
   "metadata": {},
   "outputs": [
    {
     "data": {
      "text/html": [
       "<div>\n",
       "<style scoped>\n",
       "    .dataframe tbody tr th:only-of-type {\n",
       "        vertical-align: middle;\n",
       "    }\n",
       "\n",
       "    .dataframe tbody tr th {\n",
       "        vertical-align: top;\n",
       "    }\n",
       "\n",
       "    .dataframe thead th {\n",
       "        text-align: right;\n",
       "    }\n",
       "</style>\n",
       "<table border=\"1\" class=\"dataframe\">\n",
       "  <thead>\n",
       "    <tr style=\"text-align: right;\">\n",
       "      <th></th>\n",
       "      <th>Nama</th>\n",
       "      <th>Usia</th>\n",
       "      <th>index</th>\n",
       "    </tr>\n",
       "  </thead>\n",
       "  <tbody>\n",
       "    <tr>\n",
       "      <th>0</th>\n",
       "      <td>Clarisa</td>\n",
       "      <td>26</td>\n",
       "      <td>0</td>\n",
       "    </tr>\n",
       "    <tr>\n",
       "      <th>1</th>\n",
       "      <td>Gavin</td>\n",
       "      <td>24</td>\n",
       "      <td>1</td>\n",
       "    </tr>\n",
       "    <tr>\n",
       "      <th>2</th>\n",
       "      <td>Lia</td>\n",
       "      <td>16</td>\n",
       "      <td>2</td>\n",
       "    </tr>\n",
       "    <tr>\n",
       "      <th>3</th>\n",
       "      <td>Ale</td>\n",
       "      <td>22</td>\n",
       "      <td>3</td>\n",
       "    </tr>\n",
       "  </tbody>\n",
       "</table>\n",
       "</div>"
      ],
      "text/plain": [
       "      Nama  Usia  index\n",
       "0  Clarisa    26      0\n",
       "1    Gavin    24      1\n",
       "2      Lia    16      2\n",
       "3      Ale    22      3"
      ]
     },
     "execution_count": 49,
     "metadata": {},
     "output_type": "execute_result"
    }
   ],
   "source": [
    "df3=pd.DataFrame([['Clarisa',26],['Gavin',24],['Lia',16],['Ale',22]], columns=['Nama','Usia'])\n",
    "df3['index']=df3.index\n",
    "df3"
   ]
  },
  {
   "cell_type": "code",
   "execution_count": 50,
   "id": "ab2bcd1e-a444-4530-b559-91b83540efd4",
   "metadata": {},
   "outputs": [
    {
     "data": {
      "text/html": [
       "<div>\n",
       "<style scoped>\n",
       "    .dataframe tbody tr th:only-of-type {\n",
       "        vertical-align: middle;\n",
       "    }\n",
       "\n",
       "    .dataframe tbody tr th {\n",
       "        vertical-align: top;\n",
       "    }\n",
       "\n",
       "    .dataframe thead th {\n",
       "        text-align: right;\n",
       "    }\n",
       "</style>\n",
       "<table border=\"1\" class=\"dataframe\">\n",
       "  <thead>\n",
       "    <tr style=\"text-align: right;\">\n",
       "      <th></th>\n",
       "      <th>Nama</th>\n",
       "      <th>Usia</th>\n",
       "      <th>index</th>\n",
       "      <th>Gender</th>\n",
       "    </tr>\n",
       "  </thead>\n",
       "  <tbody>\n",
       "    <tr>\n",
       "      <th>0</th>\n",
       "      <td>Clarisa</td>\n",
       "      <td>26</td>\n",
       "      <td>0</td>\n",
       "      <td>P</td>\n",
       "    </tr>\n",
       "    <tr>\n",
       "      <th>1</th>\n",
       "      <td>Gavin</td>\n",
       "      <td>24</td>\n",
       "      <td>1</td>\n",
       "      <td>L</td>\n",
       "    </tr>\n",
       "    <tr>\n",
       "      <th>2</th>\n",
       "      <td>Lia</td>\n",
       "      <td>16</td>\n",
       "      <td>2</td>\n",
       "      <td>P</td>\n",
       "    </tr>\n",
       "    <tr>\n",
       "      <th>3</th>\n",
       "      <td>Ale</td>\n",
       "      <td>22</td>\n",
       "      <td>3</td>\n",
       "      <td>L</td>\n",
       "    </tr>\n",
       "  </tbody>\n",
       "</table>\n",
       "</div>"
      ],
      "text/plain": [
       "      Nama  Usia  index Gender\n",
       "0  Clarisa    26      0      P\n",
       "1    Gavin    24      1      L\n",
       "2      Lia    16      2      P\n",
       "3      Ale    22      3      L"
      ]
     },
     "execution_count": 50,
     "metadata": {},
     "output_type": "execute_result"
    }
   ],
   "source": [
    "#Menambahkan kolom baru\n",
    "df3.loc[:,'Gender']=pd.Series(['P','L','P','L'])\n",
    "df3"
   ]
  },
  {
   "cell_type": "markdown",
   "id": "9fd1d437-cd2f-4c5e-aba4-c4c27d35f554",
   "metadata": {},
   "source": [
    "Melihat Ukuran DataFrame"
   ]
  },
  {
   "cell_type": "code",
   "execution_count": 51,
   "id": "46f920ff-c1f6-4df0-8ea9-ada44c8eb8f7",
   "metadata": {},
   "outputs": [
    {
     "data": {
      "text/plain": [
       "4"
      ]
     },
     "execution_count": 51,
     "metadata": {},
     "output_type": "execute_result"
    }
   ],
   "source": [
    "#ukuran baris paling panjang \n",
    "len(data3)"
   ]
  },
  {
   "cell_type": "code",
   "execution_count": 52,
   "id": "5131daf4-96b3-4bbb-81e2-9829360518be",
   "metadata": {},
   "outputs": [
    {
     "name": "stdout",
     "output_type": "stream",
     "text": [
      "(4, 2)\n"
     ]
    }
   ],
   "source": [
    "#ukuran baris pada kolom tertentu\n",
    "print(data3.shape)"
   ]
  },
  {
   "cell_type": "markdown",
   "id": "b43dc49c-c404-4f40-ae9d-75aaf549ff61",
   "metadata": {},
   "source": [
    "Menghapus"
   ]
  },
  {
   "cell_type": "code",
   "execution_count": 65,
   "id": "ad762a4c-72ee-47e9-a124-f69e4a4f8063",
   "metadata": {},
   "outputs": [
    {
     "data": {
      "text/html": [
       "<div>\n",
       "<style scoped>\n",
       "    .dataframe tbody tr th:only-of-type {\n",
       "        vertical-align: middle;\n",
       "    }\n",
       "\n",
       "    .dataframe tbody tr th {\n",
       "        vertical-align: top;\n",
       "    }\n",
       "\n",
       "    .dataframe thead th {\n",
       "        text-align: right;\n",
       "    }\n",
       "</style>\n",
       "<table border=\"1\" class=\"dataframe\">\n",
       "  <thead>\n",
       "    <tr style=\"text-align: right;\">\n",
       "      <th></th>\n",
       "      <th>Nama</th>\n",
       "      <th>Usia</th>\n",
       "      <th>index</th>\n",
       "    </tr>\n",
       "  </thead>\n",
       "  <tbody>\n",
       "    <tr>\n",
       "      <th>0</th>\n",
       "      <td>Clarisa</td>\n",
       "      <td>26</td>\n",
       "      <td>0</td>\n",
       "    </tr>\n",
       "    <tr>\n",
       "      <th>1</th>\n",
       "      <td>Gavin</td>\n",
       "      <td>24</td>\n",
       "      <td>1</td>\n",
       "    </tr>\n",
       "    <tr>\n",
       "      <th>2</th>\n",
       "      <td>Lia</td>\n",
       "      <td>16</td>\n",
       "      <td>2</td>\n",
       "    </tr>\n",
       "    <tr>\n",
       "      <th>3</th>\n",
       "      <td>Ale</td>\n",
       "      <td>22</td>\n",
       "      <td>3</td>\n",
       "    </tr>\n",
       "  </tbody>\n",
       "</table>\n",
       "</div>"
      ],
      "text/plain": [
       "      Nama  Usia  index\n",
       "0  Clarisa    26      0\n",
       "1    Gavin    24      1\n",
       "2      Lia    16      2\n",
       "3      Ale    22      3"
      ]
     },
     "execution_count": 65,
     "metadata": {},
     "output_type": "execute_result"
    }
   ],
   "source": [
    "#menghapus kolom\n",
    "del df3['Gender']\n",
    "df3"
   ]
  },
  {
   "cell_type": "code",
   "execution_count": 82,
   "id": "165a1d76-d799-4727-b958-b9924b7eecf5",
   "metadata": {},
   "outputs": [
    {
     "data": {
      "text/html": [
       "<div>\n",
       "<style scoped>\n",
       "    .dataframe tbody tr th:only-of-type {\n",
       "        vertical-align: middle;\n",
       "    }\n",
       "\n",
       "    .dataframe tbody tr th {\n",
       "        vertical-align: top;\n",
       "    }\n",
       "\n",
       "    .dataframe thead th {\n",
       "        text-align: right;\n",
       "    }\n",
       "</style>\n",
       "<table border=\"1\" class=\"dataframe\">\n",
       "  <thead>\n",
       "    <tr style=\"text-align: right;\">\n",
       "      <th></th>\n",
       "      <th>Nama</th>\n",
       "      <th>Usia</th>\n",
       "    </tr>\n",
       "  </thead>\n",
       "  <tbody>\n",
       "    <tr>\n",
       "      <th>0</th>\n",
       "      <td>Clarisa</td>\n",
       "      <td>26</td>\n",
       "    </tr>\n",
       "    <tr>\n",
       "      <th>1</th>\n",
       "      <td>Gavin</td>\n",
       "      <td>24</td>\n",
       "    </tr>\n",
       "    <tr>\n",
       "      <th>2</th>\n",
       "      <td>Lia</td>\n",
       "      <td>16</td>\n",
       "    </tr>\n",
       "    <tr>\n",
       "      <th>3</th>\n",
       "      <td>Ale</td>\n",
       "      <td>22</td>\n",
       "    </tr>\n",
       "  </tbody>\n",
       "</table>\n",
       "</div>"
      ],
      "text/plain": [
       "      Nama  Usia\n",
       "0  Clarisa    26\n",
       "1    Gavin    24\n",
       "2      Lia    16\n",
       "3      Ale    22"
      ]
     },
     "execution_count": 82,
     "metadata": {},
     "output_type": "execute_result"
    }
   ],
   "source": [
    "df4=pd.DataFrame([['Clarisa',26],['Gavin',24],['Lia',16],['Ale',22]], columns=['Nama','Usia'])\n",
    "df4"
   ]
  },
  {
   "cell_type": "code",
   "execution_count": 84,
   "id": "2e4ffc53-5619-4571-8575-3c43e53f06a7",
   "metadata": {},
   "outputs": [
    {
     "data": {
      "text/html": [
       "<div>\n",
       "<style scoped>\n",
       "    .dataframe tbody tr th:only-of-type {\n",
       "        vertical-align: middle;\n",
       "    }\n",
       "\n",
       "    .dataframe tbody tr th {\n",
       "        vertical-align: top;\n",
       "    }\n",
       "\n",
       "    .dataframe thead th {\n",
       "        text-align: right;\n",
       "    }\n",
       "</style>\n",
       "<table border=\"1\" class=\"dataframe\">\n",
       "  <thead>\n",
       "    <tr style=\"text-align: right;\">\n",
       "      <th></th>\n",
       "      <th>Nama</th>\n",
       "      <th>Usia</th>\n",
       "    </tr>\n",
       "  </thead>\n",
       "  <tbody>\n",
       "    <tr>\n",
       "      <th>1</th>\n",
       "      <td>Gavin</td>\n",
       "      <td>24</td>\n",
       "    </tr>\n",
       "    <tr>\n",
       "      <th>2</th>\n",
       "      <td>Lia</td>\n",
       "      <td>16</td>\n",
       "    </tr>\n",
       "    <tr>\n",
       "      <th>3</th>\n",
       "      <td>Ale</td>\n",
       "      <td>22</td>\n",
       "    </tr>\n",
       "  </tbody>\n",
       "</table>\n",
       "</div>"
      ],
      "text/plain": [
       "    Nama  Usia\n",
       "1  Gavin    24\n",
       "2    Lia    16\n",
       "3    Ale    22"
      ]
     },
     "execution_count": 84,
     "metadata": {},
     "output_type": "execute_result"
    }
   ],
   "source": [
    "#menghapus n baris di awal\n",
    "df4=df4[1:]\n",
    "df4"
   ]
  },
  {
   "cell_type": "code",
   "execution_count": 85,
   "id": "37b9ba00-760d-49d7-84c8-ff08f823cb22",
   "metadata": {},
   "outputs": [
    {
     "data": {
      "text/html": [
       "<div>\n",
       "<style scoped>\n",
       "    .dataframe tbody tr th:only-of-type {\n",
       "        vertical-align: middle;\n",
       "    }\n",
       "\n",
       "    .dataframe tbody tr th {\n",
       "        vertical-align: top;\n",
       "    }\n",
       "\n",
       "    .dataframe thead th {\n",
       "        text-align: right;\n",
       "    }\n",
       "</style>\n",
       "<table border=\"1\" class=\"dataframe\">\n",
       "  <thead>\n",
       "    <tr style=\"text-align: right;\">\n",
       "      <th></th>\n",
       "      <th>Nama</th>\n",
       "      <th>Usia</th>\n",
       "    </tr>\n",
       "  </thead>\n",
       "  <tbody>\n",
       "    <tr>\n",
       "      <th>2</th>\n",
       "      <td>Lia</td>\n",
       "      <td>16</td>\n",
       "    </tr>\n",
       "  </tbody>\n",
       "</table>\n",
       "</div>"
      ],
      "text/plain": [
       "  Nama  Usia\n",
       "2  Lia    16"
      ]
     },
     "execution_count": 85,
     "metadata": {},
     "output_type": "execute_result"
    }
   ],
   "source": [
    "#menghapus baris tertentu\n",
    "df4=df4.drop(df4.index[[0,2]])\n",
    "df4"
   ]
  },
  {
   "cell_type": "code",
   "execution_count": null,
   "id": "683fb7c1-d77e-4ab7-aeef-531fbd64a63a",
   "metadata": {},
   "outputs": [],
   "source": []
  },
  {
   "cell_type": "markdown",
   "id": "78649948-4a17-4d02-bbac-d335f874fbdd",
   "metadata": {},
   "source": [
    "IMPOR PANDAS "
   ]
  },
  {
   "cell_type": "code",
   "execution_count": 9,
   "id": "a865c8b8-3d76-453c-9435-7c03efd58026",
   "metadata": {},
   "outputs": [],
   "source": [
    "import pandas as pd\n",
    "import numpy as np"
   ]
  },
  {
   "cell_type": "markdown",
   "id": "ed0b9104-ae6a-4b1d-8eea-e8cc082f963c",
   "metadata": {},
   "source": [
    "Import .txt\n",
    "\n",
    "untuk import file.txt maka siapkan file .txt nya terlebih dahulu pada folder yang sama dengan program"
   ]
  },
  {
   "cell_type": "code",
   "execution_count": 10,
   "id": "3afaf462-e879-4da6-8823-86311efc4d9c",
   "metadata": {},
   "outputs": [
    {
     "name": "stdout",
     "output_type": "stream",
     "text": [
      "   A\\tB\n",
      "0  1\\t2\n",
      "1  4\\t3\n",
      "2  4\\t2\n"
     ]
    }
   ],
   "source": [
    "data4=pd.read_csv(\"data.txt\")\n",
    "print(data4)"
   ]
  },
  {
   "cell_type": "markdown",
   "id": "139bab5a-f169-4780-ba0a-0e5037a05ce6",
   "metadata": {},
   "source": [
    "untuk mengeliminasi sebuah elemen pada output tersebut maka seperti dibawah ini"
   ]
  },
  {
   "cell_type": "code",
   "execution_count": 11,
   "id": "982fab00-eb12-4178-8924-55ae66e80a6d",
   "metadata": {},
   "outputs": [
    {
     "name": "stdout",
     "output_type": "stream",
     "text": [
      "   A  B\n",
      "0  1  2\n",
      "1  4  3\n",
      "2  4  2\n"
     ]
    }
   ],
   "source": [
    "data5=pd.read_csv(\"data.txt\", delimiter=\"\\t\")\n",
    "print(data5)"
   ]
  },
  {
   "cell_type": "markdown",
   "id": "f265f950-9a98-4a1f-b072-e456feb83c18",
   "metadata": {},
   "source": [
    "Import .csv\n",
    "\n",
    "untuk import file .csv maka siapkan file .csv nya terlebih dahulu pada folder yang sama dengan program"
   ]
  },
  {
   "cell_type": "code",
   "execution_count": 12,
   "id": "b05eb8df-70e5-4ca5-b874-e864a4b55a6d",
   "metadata": {},
   "outputs": [
    {
     "name": "stdout",
     "output_type": "stream",
     "text": [
      "   A  B\n",
      "0  1  2\n",
      "1  4  3\n",
      "2  4  2\n"
     ]
    }
   ],
   "source": [
    "data6=pd.read_csv(\"data.csv\")\n",
    "print(data6)"
   ]
  },
  {
   "cell_type": "markdown",
   "id": "bdb76d16-154f-4495-8f74-084f90505805",
   "metadata": {},
   "source": [
    "Import .xlsx\n",
    "\n",
    "untuk import file .xlsx maka siapkan file .xlsx nya terlebih dahulu pada folder yang sama dengan program"
   ]
  },
  {
   "cell_type": "code",
   "execution_count": null,
   "id": "421457b3-ab79-4b5b-8cc6-05ef15c6a714",
   "metadata": {},
   "outputs": [],
   "source": []
  },
  {
   "cell_type": "code",
   "execution_count": 87,
   "id": "4736db4e-51e9-4f1a-9c2c-42668d3c0f13",
   "metadata": {},
   "outputs": [
    {
     "name": "stdout",
     "output_type": "stream",
     "text": [
      "[[ 1 32]\n",
      " [ 2 43]\n",
      " [ 4 55]]\n"
     ]
    }
   ],
   "source": [
    "#import pandas dan numpy\n",
    "import pandas as pd\n",
    "import numpy as np\n",
    "#misal punya suatu dataframe\n",
    "data = [[1,32],[2,43],[4,55]]\n",
    "df = pd.DataFrame(data, columns=['nama','usia'])\n",
    "#convert ke numpy array\n",
    "databaru= df.to_numpy()\n",
    "print(databaru)\n",
    "#convert ke txt\n",
    "df.to_csv('dataexport.csv')"
   ]
  },
  {
   "cell_type": "code",
   "execution_count": null,
   "id": "1f6cdd0f-f800-48aa-aaca-bef41d17f7c4",
   "metadata": {},
   "outputs": [],
   "source": []
  }
 ],
 "metadata": {
  "kernelspec": {
   "display_name": "Python 3 (ipykernel)",
   "language": "python",
   "name": "python3"
  },
  "language_info": {
   "codemirror_mode": {
    "name": "ipython",
    "version": 3
   },
   "file_extension": ".py",
   "mimetype": "text/x-python",
   "name": "python",
   "nbconvert_exporter": "python",
   "pygments_lexer": "ipython3",
   "version": "3.10.2"
  }
 },
 "nbformat": 4,
 "nbformat_minor": 5
}
